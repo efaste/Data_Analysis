{
 "cells": [
  {
   "cell_type": "markdown",
   "metadata": {},
   "source": [
    "Premier league players stats 2021-2022 season"
   ]
  },
  {
   "cell_type": "markdown",
   "metadata": {},
   "source": [
    "Credit for the data: Azmine Toushik Wasi"
   ]
  },
  {
   "cell_type": "markdown",
   "metadata": {},
   "source": [
    "Link to the data: https://www.kaggle.com/datasets/azminetoushikwasi/epl-21-22-matches-players?select=all_players_stats.csv"
   ]
  },
  {
   "cell_type": "markdown",
   "metadata": {},
   "source": [
    "In this analysis we wil be looking a players stats from Premire league for the 2021-2022 season.\n"
   ]
  },
  {
   "cell_type": "markdown",
   "metadata": {},
   "source": [
    "Packages we will be using "
   ]
  },
  {
   "cell_type": "code",
   "execution_count": 2,
   "metadata": {},
   "outputs": [],
   "source": [
    "import pandas as pd\n",
    "import numpy as np\n",
    "import matplotlib.pyplot as plt\n",
    "import seaborn as sns\n",
    "import altair as alt\n",
    "import plotly.express as px\n",
    "import plotly.graph_objects as go"
   ]
  },
  {
   "cell_type": "markdown",
   "metadata": {},
   "source": [
    "Loading the Data"
   ]
  },
  {
   "cell_type": "code",
   "execution_count": 3,
   "metadata": {},
   "outputs": [
    {
     "data": {
      "text/html": [
       "<div><div id=cc21c5aa-f9e6-4ff9-8e3a-e1b386355e45 style=\"display:none; background-color:#9D6CFF; color:white; width:200px; height:30px; padding-left:5px; border-radius:4px; flex-direction:row; justify-content:space-around; align-items:center;\" onmouseover=\"this.style.backgroundColor='#BA9BF8'\" onmouseout=\"this.style.backgroundColor='#9D6CFF'\" onclick=\"window.commands?.execute('create-mitosheet-from-dataframe-output');\">See Full Dataframe in Mito</div> <script> if (window.commands?.hasCommand('create-mitosheet-from-dataframe-output')) document.getElementById('cc21c5aa-f9e6-4ff9-8e3a-e1b386355e45').style.display = 'flex' </script> <table border=\"1\" class=\"dataframe\">\n",
       "  <thead>\n",
       "    <tr style=\"text-align: right;\">\n",
       "      <th></th>\n",
       "      <th>Team</th>\n",
       "      <th>JerseyNo</th>\n",
       "      <th>Player</th>\n",
       "      <th>Position</th>\n",
       "      <th>Apearances</th>\n",
       "      <th>Substitutions</th>\n",
       "      <th>Goals</th>\n",
       "      <th>Penalties</th>\n",
       "      <th>YellowCards</th>\n",
       "      <th>RedCards</th>\n",
       "    </tr>\n",
       "  </thead>\n",
       "  <tbody>\n",
       "    <tr>\n",
       "      <th>0</th>\n",
       "      <td>Arsenal</td>\n",
       "      <td>7</td>\n",
       "      <td>Bukayo Saka</td>\n",
       "      <td>Defender/Midfielder</td>\n",
       "      <td>40</td>\n",
       "      <td>3</td>\n",
       "      <td>12</td>\n",
       "      <td>2</td>\n",
       "      <td>6.0</td>\n",
       "      <td>0.0</td>\n",
       "    </tr>\n",
       "    <tr>\n",
       "      <th>1</th>\n",
       "      <td>Arsenal</td>\n",
       "      <td>6</td>\n",
       "      <td>Gabriel</td>\n",
       "      <td>Defender</td>\n",
       "      <td>37</td>\n",
       "      <td>1</td>\n",
       "      <td>5</td>\n",
       "      <td>0</td>\n",
       "      <td>7.0</td>\n",
       "      <td>1.0</td>\n",
       "    </tr>\n",
       "    <tr>\n",
       "      <th>2</th>\n",
       "      <td>Arsenal</td>\n",
       "      <td>32</td>\n",
       "      <td>Aaron Ramsdale</td>\n",
       "      <td>Goalkeeper</td>\n",
       "      <td>37</td>\n",
       "      <td>0</td>\n",
       "      <td>0</td>\n",
       "      <td>0</td>\n",
       "      <td>1.0</td>\n",
       "      <td>0.0</td>\n",
       "    </tr>\n",
       "    <tr>\n",
       "      <th>3</th>\n",
       "      <td>Arsenal</td>\n",
       "      <td>4</td>\n",
       "      <td>Ben White</td>\n",
       "      <td>Defender</td>\n",
       "      <td>37</td>\n",
       "      <td>0</td>\n",
       "      <td>0</td>\n",
       "      <td>0</td>\n",
       "      <td>3.0</td>\n",
       "      <td>0.0</td>\n",
       "    </tr>\n",
       "    <tr>\n",
       "      <th>4</th>\n",
       "      <td>Arsenal</td>\n",
       "      <td>8</td>\n",
       "      <td>Martin Odegaard</td>\n",
       "      <td>Midfielder</td>\n",
       "      <td>36</td>\n",
       "      <td>4</td>\n",
       "      <td>7</td>\n",
       "      <td>0</td>\n",
       "      <td>4.0</td>\n",
       "      <td>0.0</td>\n",
       "    </tr>\n",
       "  </tbody>\n",
       "</table></div>"
      ],
      "text/plain": [
       "      Team  JerseyNo           Player             Position  Apearances  \\\n",
       "0  Arsenal         7      Bukayo Saka  Defender/Midfielder          40   \n",
       "1  Arsenal         6          Gabriel             Defender          37   \n",
       "2  Arsenal        32   Aaron Ramsdale           Goalkeeper          37   \n",
       "3  Arsenal         4        Ben White             Defender          37   \n",
       "4  Arsenal         8  Martin Odegaard           Midfielder          36   \n",
       "\n",
       "   Substitutions  Goals  Penalties  YellowCards  RedCards  \n",
       "0              3     12          2          6.0       0.0  \n",
       "1              1      5          0          7.0       1.0  \n",
       "2              0      0          0          1.0       0.0  \n",
       "3              0      0          0          3.0       0.0  \n",
       "4              4      7          0          4.0       0.0  "
      ]
     },
     "execution_count": 3,
     "metadata": {},
     "output_type": "execute_result"
    }
   ],
   "source": [
    "players_stats = pd.read_csv('premier-league-player-stat-2021-2022.csv')\n",
    "players_stats.head()"
   ]
  },
  {
   "cell_type": "markdown",
   "metadata": {},
   "source": [
    "TOP 10 players with the most goals"
   ]
  },
  {
   "cell_type": "code",
   "execution_count": 4,
   "metadata": {},
   "outputs": [
    {
     "data": {
      "text/html": [
       "<div><div id=01f72971-f08e-4393-a748-3ec8f8ddb394 style=\"display:none; background-color:#9D6CFF; color:white; width:200px; height:30px; padding-left:5px; border-radius:4px; flex-direction:row; justify-content:space-around; align-items:center;\" onmouseover=\"this.style.backgroundColor='#BA9BF8'\" onmouseout=\"this.style.backgroundColor='#9D6CFF'\" onclick=\"window.commands?.execute('create-mitosheet-from-dataframe-output');\">See Full Dataframe in Mito</div> <script> if (window.commands?.hasCommand('create-mitosheet-from-dataframe-output')) document.getElementById('01f72971-f08e-4393-a748-3ec8f8ddb394').style.display = 'flex' </script> <table border=\"1\" class=\"dataframe\">\n",
       "  <thead>\n",
       "    <tr style=\"text-align: right;\">\n",
       "      <th></th>\n",
       "      <th>Player</th>\n",
       "      <th>Goals</th>\n",
       "    </tr>\n",
       "  </thead>\n",
       "  <tbody>\n",
       "    <tr>\n",
       "      <th>341</th>\n",
       "      <td>Mohamed Salah</td>\n",
       "      <td>31</td>\n",
       "    </tr>\n",
       "    <tr>\n",
       "      <th>514</th>\n",
       "      <td>Harry Kane</td>\n",
       "      <td>27</td>\n",
       "    </tr>\n",
       "    <tr>\n",
       "      <th>367</th>\n",
       "      <td>Riyad Mahrez</td>\n",
       "      <td>24</td>\n",
       "    </tr>\n",
       "    <tr>\n",
       "      <th>407</th>\n",
       "      <td>Cristiano Ronaldo</td>\n",
       "      <td>24</td>\n",
       "    </tr>\n",
       "    <tr>\n",
       "      <th>511</th>\n",
       "      <td>SON Heung-min</td>\n",
       "      <td>24</td>\n",
       "    </tr>\n",
       "    <tr>\n",
       "      <th>331</th>\n",
       "      <td>Sadio Mané</td>\n",
       "      <td>23</td>\n",
       "    </tr>\n",
       "    <tr>\n",
       "      <th>317</th>\n",
       "      <td>Diogo Jota</td>\n",
       "      <td>21</td>\n",
       "    </tr>\n",
       "    <tr>\n",
       "      <th>351</th>\n",
       "      <td>Kevin De Bruyne</td>\n",
       "      <td>19</td>\n",
       "    </tr>\n",
       "    <tr>\n",
       "      <th>296</th>\n",
       "      <td>James Maddison</td>\n",
       "      <td>18</td>\n",
       "    </tr>\n",
       "    <tr>\n",
       "      <th>572</th>\n",
       "      <td>Jarrod Bowen</td>\n",
       "      <td>18</td>\n",
       "    </tr>\n",
       "  </tbody>\n",
       "</table></div>"
      ],
      "text/plain": [
       "                Player  Goals\n",
       "341      Mohamed Salah     31\n",
       "514         Harry Kane     27\n",
       "367       Riyad Mahrez     24\n",
       "407  Cristiano Ronaldo     24\n",
       "511      SON Heung-min     24\n",
       "331         Sadio Mané     23\n",
       "317         Diogo Jota     21\n",
       "351    Kevin De Bruyne     19\n",
       "296     James Maddison     18\n",
       "572       Jarrod Bowen     18"
      ]
     },
     "execution_count": 4,
     "metadata": {},
     "output_type": "execute_result"
    }
   ],
   "source": [
    "goals = players_stats[['Player', 'Goals']]\n",
    "top_10_goal_scorer = goals.nlargest(n=10, columns =['Goals'])\n",
    "top_10_goal_scorer"
   ]
  },
  {
   "cell_type": "code",
   "execution_count": 5,
   "metadata": {},
   "outputs": [
    {
     "data": {
      "application/vnd.plotly.v1+json": {
       "config": {
        "plotlyServerURL": "https://plot.ly"
       },
       "data": [
        {
         "alignmentgroup": "True",
         "cliponaxis": false,
         "hovertemplate": "Player=%{x}<br>Goals=%{y}<extra></extra>",
         "legendgroup": "",
         "marker": {
          "color": "#636efa",
          "pattern": {
           "shape": ""
          }
         },
         "name": "",
         "offsetgroup": "",
         "orientation": "v",
         "showlegend": false,
         "textangle": 0,
         "textfont": {
          "size": 12
         },
         "textposition": "outside",
         "texttemplate": "%{y:.2s}",
         "type": "bar",
         "x": [
          "Mohamed Salah",
          "Harry Kane",
          "Riyad Mahrez",
          "Cristiano Ronaldo",
          "SON Heung-min",
          "Sadio Mané",
          "Diogo Jota",
          "Kevin De Bruyne",
          "James Maddison",
          "Jarrod Bowen"
         ],
         "xaxis": "x",
         "y": [
          31,
          27,
          24,
          24,
          24,
          23,
          21,
          19,
          18,
          18
         ],
         "yaxis": "y"
        }
       ],
       "layout": {
        "barmode": "relative",
        "legend": {
         "tracegroupgap": 0
        },
        "template": {
         "data": {
          "bar": [
           {
            "error_x": {
             "color": "#2a3f5f"
            },
            "error_y": {
             "color": "#2a3f5f"
            },
            "marker": {
             "line": {
              "color": "#E5ECF6",
              "width": 0.5
             },
             "pattern": {
              "fillmode": "overlay",
              "size": 10,
              "solidity": 0.2
             }
            },
            "type": "bar"
           }
          ],
          "barpolar": [
           {
            "marker": {
             "line": {
              "color": "#E5ECF6",
              "width": 0.5
             },
             "pattern": {
              "fillmode": "overlay",
              "size": 10,
              "solidity": 0.2
             }
            },
            "type": "barpolar"
           }
          ],
          "carpet": [
           {
            "aaxis": {
             "endlinecolor": "#2a3f5f",
             "gridcolor": "white",
             "linecolor": "white",
             "minorgridcolor": "white",
             "startlinecolor": "#2a3f5f"
            },
            "baxis": {
             "endlinecolor": "#2a3f5f",
             "gridcolor": "white",
             "linecolor": "white",
             "minorgridcolor": "white",
             "startlinecolor": "#2a3f5f"
            },
            "type": "carpet"
           }
          ],
          "choropleth": [
           {
            "colorbar": {
             "outlinewidth": 0,
             "ticks": ""
            },
            "type": "choropleth"
           }
          ],
          "contour": [
           {
            "colorbar": {
             "outlinewidth": 0,
             "ticks": ""
            },
            "colorscale": [
             [
              0,
              "#0d0887"
             ],
             [
              0.1111111111111111,
              "#46039f"
             ],
             [
              0.2222222222222222,
              "#7201a8"
             ],
             [
              0.3333333333333333,
              "#9c179e"
             ],
             [
              0.4444444444444444,
              "#bd3786"
             ],
             [
              0.5555555555555556,
              "#d8576b"
             ],
             [
              0.6666666666666666,
              "#ed7953"
             ],
             [
              0.7777777777777778,
              "#fb9f3a"
             ],
             [
              0.8888888888888888,
              "#fdca26"
             ],
             [
              1,
              "#f0f921"
             ]
            ],
            "type": "contour"
           }
          ],
          "contourcarpet": [
           {
            "colorbar": {
             "outlinewidth": 0,
             "ticks": ""
            },
            "type": "contourcarpet"
           }
          ],
          "heatmap": [
           {
            "colorbar": {
             "outlinewidth": 0,
             "ticks": ""
            },
            "colorscale": [
             [
              0,
              "#0d0887"
             ],
             [
              0.1111111111111111,
              "#46039f"
             ],
             [
              0.2222222222222222,
              "#7201a8"
             ],
             [
              0.3333333333333333,
              "#9c179e"
             ],
             [
              0.4444444444444444,
              "#bd3786"
             ],
             [
              0.5555555555555556,
              "#d8576b"
             ],
             [
              0.6666666666666666,
              "#ed7953"
             ],
             [
              0.7777777777777778,
              "#fb9f3a"
             ],
             [
              0.8888888888888888,
              "#fdca26"
             ],
             [
              1,
              "#f0f921"
             ]
            ],
            "type": "heatmap"
           }
          ],
          "heatmapgl": [
           {
            "colorbar": {
             "outlinewidth": 0,
             "ticks": ""
            },
            "colorscale": [
             [
              0,
              "#0d0887"
             ],
             [
              0.1111111111111111,
              "#46039f"
             ],
             [
              0.2222222222222222,
              "#7201a8"
             ],
             [
              0.3333333333333333,
              "#9c179e"
             ],
             [
              0.4444444444444444,
              "#bd3786"
             ],
             [
              0.5555555555555556,
              "#d8576b"
             ],
             [
              0.6666666666666666,
              "#ed7953"
             ],
             [
              0.7777777777777778,
              "#fb9f3a"
             ],
             [
              0.8888888888888888,
              "#fdca26"
             ],
             [
              1,
              "#f0f921"
             ]
            ],
            "type": "heatmapgl"
           }
          ],
          "histogram": [
           {
            "marker": {
             "pattern": {
              "fillmode": "overlay",
              "size": 10,
              "solidity": 0.2
             }
            },
            "type": "histogram"
           }
          ],
          "histogram2d": [
           {
            "colorbar": {
             "outlinewidth": 0,
             "ticks": ""
            },
            "colorscale": [
             [
              0,
              "#0d0887"
             ],
             [
              0.1111111111111111,
              "#46039f"
             ],
             [
              0.2222222222222222,
              "#7201a8"
             ],
             [
              0.3333333333333333,
              "#9c179e"
             ],
             [
              0.4444444444444444,
              "#bd3786"
             ],
             [
              0.5555555555555556,
              "#d8576b"
             ],
             [
              0.6666666666666666,
              "#ed7953"
             ],
             [
              0.7777777777777778,
              "#fb9f3a"
             ],
             [
              0.8888888888888888,
              "#fdca26"
             ],
             [
              1,
              "#f0f921"
             ]
            ],
            "type": "histogram2d"
           }
          ],
          "histogram2dcontour": [
           {
            "colorbar": {
             "outlinewidth": 0,
             "ticks": ""
            },
            "colorscale": [
             [
              0,
              "#0d0887"
             ],
             [
              0.1111111111111111,
              "#46039f"
             ],
             [
              0.2222222222222222,
              "#7201a8"
             ],
             [
              0.3333333333333333,
              "#9c179e"
             ],
             [
              0.4444444444444444,
              "#bd3786"
             ],
             [
              0.5555555555555556,
              "#d8576b"
             ],
             [
              0.6666666666666666,
              "#ed7953"
             ],
             [
              0.7777777777777778,
              "#fb9f3a"
             ],
             [
              0.8888888888888888,
              "#fdca26"
             ],
             [
              1,
              "#f0f921"
             ]
            ],
            "type": "histogram2dcontour"
           }
          ],
          "mesh3d": [
           {
            "colorbar": {
             "outlinewidth": 0,
             "ticks": ""
            },
            "type": "mesh3d"
           }
          ],
          "parcoords": [
           {
            "line": {
             "colorbar": {
              "outlinewidth": 0,
              "ticks": ""
             }
            },
            "type": "parcoords"
           }
          ],
          "pie": [
           {
            "automargin": true,
            "type": "pie"
           }
          ],
          "scatter": [
           {
            "fillpattern": {
             "fillmode": "overlay",
             "size": 10,
             "solidity": 0.2
            },
            "type": "scatter"
           }
          ],
          "scatter3d": [
           {
            "line": {
             "colorbar": {
              "outlinewidth": 0,
              "ticks": ""
             }
            },
            "marker": {
             "colorbar": {
              "outlinewidth": 0,
              "ticks": ""
             }
            },
            "type": "scatter3d"
           }
          ],
          "scattercarpet": [
           {
            "marker": {
             "colorbar": {
              "outlinewidth": 0,
              "ticks": ""
             }
            },
            "type": "scattercarpet"
           }
          ],
          "scattergeo": [
           {
            "marker": {
             "colorbar": {
              "outlinewidth": 0,
              "ticks": ""
             }
            },
            "type": "scattergeo"
           }
          ],
          "scattergl": [
           {
            "marker": {
             "colorbar": {
              "outlinewidth": 0,
              "ticks": ""
             }
            },
            "type": "scattergl"
           }
          ],
          "scattermapbox": [
           {
            "marker": {
             "colorbar": {
              "outlinewidth": 0,
              "ticks": ""
             }
            },
            "type": "scattermapbox"
           }
          ],
          "scatterpolar": [
           {
            "marker": {
             "colorbar": {
              "outlinewidth": 0,
              "ticks": ""
             }
            },
            "type": "scatterpolar"
           }
          ],
          "scatterpolargl": [
           {
            "marker": {
             "colorbar": {
              "outlinewidth": 0,
              "ticks": ""
             }
            },
            "type": "scatterpolargl"
           }
          ],
          "scatterternary": [
           {
            "marker": {
             "colorbar": {
              "outlinewidth": 0,
              "ticks": ""
             }
            },
            "type": "scatterternary"
           }
          ],
          "surface": [
           {
            "colorbar": {
             "outlinewidth": 0,
             "ticks": ""
            },
            "colorscale": [
             [
              0,
              "#0d0887"
             ],
             [
              0.1111111111111111,
              "#46039f"
             ],
             [
              0.2222222222222222,
              "#7201a8"
             ],
             [
              0.3333333333333333,
              "#9c179e"
             ],
             [
              0.4444444444444444,
              "#bd3786"
             ],
             [
              0.5555555555555556,
              "#d8576b"
             ],
             [
              0.6666666666666666,
              "#ed7953"
             ],
             [
              0.7777777777777778,
              "#fb9f3a"
             ],
             [
              0.8888888888888888,
              "#fdca26"
             ],
             [
              1,
              "#f0f921"
             ]
            ],
            "type": "surface"
           }
          ],
          "table": [
           {
            "cells": {
             "fill": {
              "color": "#EBF0F8"
             },
             "line": {
              "color": "white"
             }
            },
            "header": {
             "fill": {
              "color": "#C8D4E3"
             },
             "line": {
              "color": "white"
             }
            },
            "type": "table"
           }
          ]
         },
         "layout": {
          "annotationdefaults": {
           "arrowcolor": "#2a3f5f",
           "arrowhead": 0,
           "arrowwidth": 1
          },
          "autotypenumbers": "strict",
          "coloraxis": {
           "colorbar": {
            "outlinewidth": 0,
            "ticks": ""
           }
          },
          "colorscale": {
           "diverging": [
            [
             0,
             "#8e0152"
            ],
            [
             0.1,
             "#c51b7d"
            ],
            [
             0.2,
             "#de77ae"
            ],
            [
             0.3,
             "#f1b6da"
            ],
            [
             0.4,
             "#fde0ef"
            ],
            [
             0.5,
             "#f7f7f7"
            ],
            [
             0.6,
             "#e6f5d0"
            ],
            [
             0.7,
             "#b8e186"
            ],
            [
             0.8,
             "#7fbc41"
            ],
            [
             0.9,
             "#4d9221"
            ],
            [
             1,
             "#276419"
            ]
           ],
           "sequential": [
            [
             0,
             "#0d0887"
            ],
            [
             0.1111111111111111,
             "#46039f"
            ],
            [
             0.2222222222222222,
             "#7201a8"
            ],
            [
             0.3333333333333333,
             "#9c179e"
            ],
            [
             0.4444444444444444,
             "#bd3786"
            ],
            [
             0.5555555555555556,
             "#d8576b"
            ],
            [
             0.6666666666666666,
             "#ed7953"
            ],
            [
             0.7777777777777778,
             "#fb9f3a"
            ],
            [
             0.8888888888888888,
             "#fdca26"
            ],
            [
             1,
             "#f0f921"
            ]
           ],
           "sequentialminus": [
            [
             0,
             "#0d0887"
            ],
            [
             0.1111111111111111,
             "#46039f"
            ],
            [
             0.2222222222222222,
             "#7201a8"
            ],
            [
             0.3333333333333333,
             "#9c179e"
            ],
            [
             0.4444444444444444,
             "#bd3786"
            ],
            [
             0.5555555555555556,
             "#d8576b"
            ],
            [
             0.6666666666666666,
             "#ed7953"
            ],
            [
             0.7777777777777778,
             "#fb9f3a"
            ],
            [
             0.8888888888888888,
             "#fdca26"
            ],
            [
             1,
             "#f0f921"
            ]
           ]
          },
          "colorway": [
           "#636efa",
           "#EF553B",
           "#00cc96",
           "#ab63fa",
           "#FFA15A",
           "#19d3f3",
           "#FF6692",
           "#B6E880",
           "#FF97FF",
           "#FECB52"
          ],
          "font": {
           "color": "#2a3f5f"
          },
          "geo": {
           "bgcolor": "white",
           "lakecolor": "white",
           "landcolor": "#E5ECF6",
           "showlakes": true,
           "showland": true,
           "subunitcolor": "white"
          },
          "hoverlabel": {
           "align": "left"
          },
          "hovermode": "closest",
          "mapbox": {
           "style": "light"
          },
          "paper_bgcolor": "white",
          "plot_bgcolor": "#E5ECF6",
          "polar": {
           "angularaxis": {
            "gridcolor": "white",
            "linecolor": "white",
            "ticks": ""
           },
           "bgcolor": "#E5ECF6",
           "radialaxis": {
            "gridcolor": "white",
            "linecolor": "white",
            "ticks": ""
           }
          },
          "scene": {
           "xaxis": {
            "backgroundcolor": "#E5ECF6",
            "gridcolor": "white",
            "gridwidth": 2,
            "linecolor": "white",
            "showbackground": true,
            "ticks": "",
            "zerolinecolor": "white"
           },
           "yaxis": {
            "backgroundcolor": "#E5ECF6",
            "gridcolor": "white",
            "gridwidth": 2,
            "linecolor": "white",
            "showbackground": true,
            "ticks": "",
            "zerolinecolor": "white"
           },
           "zaxis": {
            "backgroundcolor": "#E5ECF6",
            "gridcolor": "white",
            "gridwidth": 2,
            "linecolor": "white",
            "showbackground": true,
            "ticks": "",
            "zerolinecolor": "white"
           }
          },
          "shapedefaults": {
           "line": {
            "color": "#2a3f5f"
           }
          },
          "ternary": {
           "aaxis": {
            "gridcolor": "white",
            "linecolor": "white",
            "ticks": ""
           },
           "baxis": {
            "gridcolor": "white",
            "linecolor": "white",
            "ticks": ""
           },
           "bgcolor": "#E5ECF6",
           "caxis": {
            "gridcolor": "white",
            "linecolor": "white",
            "ticks": ""
           }
          },
          "title": {
           "x": 0.05
          },
          "xaxis": {
           "automargin": true,
           "gridcolor": "white",
           "linecolor": "white",
           "ticks": "",
           "title": {
            "standoff": 15
           },
           "zerolinecolor": "white",
           "zerolinewidth": 2
          },
          "yaxis": {
           "automargin": true,
           "gridcolor": "white",
           "linecolor": "white",
           "ticks": "",
           "title": {
            "standoff": 15
           },
           "zerolinecolor": "white",
           "zerolinewidth": 2
          }
         }
        },
        "title": {
         "text": "Top 10 Goal Scorer"
        },
        "xaxis": {
         "anchor": "y",
         "domain": [
          0,
          1
         ],
         "title": {
          "text": "Player"
         }
        },
        "yaxis": {
         "anchor": "x",
         "domain": [
          0,
          1
         ],
         "title": {
          "text": "Goals"
         }
        }
       }
      }
     },
     "metadata": {},
     "output_type": "display_data"
    }
   ],
   "source": [
    "top_10_goals_bar = px.bar(top_10_goal_scorer, y = 'Goals', x = 'Player', text_auto='.2s', \n",
    "                                              title= \"Top 10 Goal Scorer\")\n",
    "top_10_goals_bar.update_traces(textfont_size=12, textangle=0, textposition=\"outside\", cliponaxis=False)\n",
    "top_10_goals_bar.show()"
   ]
  },
  {
   "cell_type": "markdown",
   "metadata": {},
   "source": [
    "Here we can see the top ten goal scorer. We can see that Mohamed Salah is the top scorer."
   ]
  },
  {
   "cell_type": "markdown",
   "metadata": {},
   "source": [
    "Top 10 players with the most penalties"
   ]
  },
  {
   "cell_type": "code",
   "execution_count": 6,
   "metadata": {},
   "outputs": [
    {
     "data": {
      "text/html": [
       "<div><div id=93f82ae5-0f12-4568-bc1b-2c460c57d79f style=\"display:none; background-color:#9D6CFF; color:white; width:200px; height:30px; padding-left:5px; border-radius:4px; flex-direction:row; justify-content:space-around; align-items:center;\" onmouseover=\"this.style.backgroundColor='#BA9BF8'\" onmouseout=\"this.style.backgroundColor='#9D6CFF'\" onclick=\"window.commands?.execute('create-mitosheet-from-dataframe-output');\">See Full Dataframe in Mito</div> <script> if (window.commands?.hasCommand('create-mitosheet-from-dataframe-output')) document.getElementById('93f82ae5-0f12-4568-bc1b-2c460c57d79f').style.display = 'flex' </script> <table border=\"1\" class=\"dataframe\">\n",
       "  <thead>\n",
       "    <tr style=\"text-align: right;\">\n",
       "      <th></th>\n",
       "      <th>Player</th>\n",
       "      <th>Penalties</th>\n",
       "    </tr>\n",
       "  </thead>\n",
       "  <tbody>\n",
       "    <tr>\n",
       "      <th>167</th>\n",
       "      <td>Jorginho</td>\n",
       "      <td>9</td>\n",
       "    </tr>\n",
       "    <tr>\n",
       "      <th>367</th>\n",
       "      <td>Riyad Mahrez</td>\n",
       "      <td>7</td>\n",
       "    </tr>\n",
       "    <tr>\n",
       "      <th>69</th>\n",
       "      <td>Ivan Toney</td>\n",
       "      <td>6</td>\n",
       "    </tr>\n",
       "    <tr>\n",
       "      <th>341</th>\n",
       "      <td>Mohamed Salah</td>\n",
       "      <td>6</td>\n",
       "    </tr>\n",
       "    <tr>\n",
       "      <th>213</th>\n",
       "      <td>Wilfried Zaha</td>\n",
       "      <td>5</td>\n",
       "    </tr>\n",
       "    <tr>\n",
       "      <th>499</th>\n",
       "      <td>James Ward-Prowse</td>\n",
       "      <td>5</td>\n",
       "    </tr>\n",
       "    <tr>\n",
       "      <th>273</th>\n",
       "      <td>Raphinha</td>\n",
       "      <td>4</td>\n",
       "    </tr>\n",
       "    <tr>\n",
       "      <th>514</th>\n",
       "      <td>Harry Kane</td>\n",
       "      <td>4</td>\n",
       "    </tr>\n",
       "    <tr>\n",
       "      <th>10</th>\n",
       "      <td>Alexandre Lacazette</td>\n",
       "      <td>3</td>\n",
       "    </tr>\n",
       "    <tr>\n",
       "      <th>244</th>\n",
       "      <td>Richarlison</td>\n",
       "      <td>3</td>\n",
       "    </tr>\n",
       "  </tbody>\n",
       "</table></div>"
      ],
      "text/plain": [
       "                  Player  Penalties\n",
       "167             Jorginho          9\n",
       "367         Riyad Mahrez          7\n",
       "69            Ivan Toney          6\n",
       "341        Mohamed Salah          6\n",
       "213        Wilfried Zaha          5\n",
       "499    James Ward-Prowse          5\n",
       "273             Raphinha          4\n",
       "514           Harry Kane          4\n",
       "10   Alexandre Lacazette          3\n",
       "244          Richarlison          3"
      ]
     },
     "execution_count": 6,
     "metadata": {},
     "output_type": "execute_result"
    }
   ],
   "source": [
    "penalties = players_stats[['Player', 'Penalties']]\n",
    "top_10_penalties = penalties.nlargest(n=10, columns =['Penalties'])\n",
    "top_10_penalties"
   ]
  },
  {
   "cell_type": "code",
   "execution_count": 7,
   "metadata": {},
   "outputs": [
    {
     "data": {
      "application/vnd.plotly.v1+json": {
       "config": {
        "plotlyServerURL": "https://plot.ly"
       },
       "data": [
        {
         "alignmentgroup": "True",
         "cliponaxis": false,
         "hovertemplate": "Player=%{x}<br>Penalties=%{y}<extra></extra>",
         "legendgroup": "",
         "marker": {
          "color": "#636efa",
          "pattern": {
           "shape": ""
          }
         },
         "name": "",
         "offsetgroup": "",
         "orientation": "v",
         "showlegend": false,
         "textangle": 0,
         "textfont": {
          "size": 12
         },
         "textposition": "outside",
         "texttemplate": "%{y:.2s}",
         "type": "bar",
         "x": [
          "Jorginho",
          "Riyad Mahrez",
          "Ivan Toney",
          "Mohamed Salah",
          "Wilfried Zaha",
          "James Ward-Prowse",
          "Raphinha",
          "Harry Kane",
          "Alexandre Lacazette",
          "Richarlison"
         ],
         "xaxis": "x",
         "y": [
          9,
          7,
          6,
          6,
          5,
          5,
          4,
          4,
          3,
          3
         ],
         "yaxis": "y"
        }
       ],
       "layout": {
        "barmode": "relative",
        "legend": {
         "tracegroupgap": 0
        },
        "template": {
         "data": {
          "bar": [
           {
            "error_x": {
             "color": "#2a3f5f"
            },
            "error_y": {
             "color": "#2a3f5f"
            },
            "marker": {
             "line": {
              "color": "#E5ECF6",
              "width": 0.5
             },
             "pattern": {
              "fillmode": "overlay",
              "size": 10,
              "solidity": 0.2
             }
            },
            "type": "bar"
           }
          ],
          "barpolar": [
           {
            "marker": {
             "line": {
              "color": "#E5ECF6",
              "width": 0.5
             },
             "pattern": {
              "fillmode": "overlay",
              "size": 10,
              "solidity": 0.2
             }
            },
            "type": "barpolar"
           }
          ],
          "carpet": [
           {
            "aaxis": {
             "endlinecolor": "#2a3f5f",
             "gridcolor": "white",
             "linecolor": "white",
             "minorgridcolor": "white",
             "startlinecolor": "#2a3f5f"
            },
            "baxis": {
             "endlinecolor": "#2a3f5f",
             "gridcolor": "white",
             "linecolor": "white",
             "minorgridcolor": "white",
             "startlinecolor": "#2a3f5f"
            },
            "type": "carpet"
           }
          ],
          "choropleth": [
           {
            "colorbar": {
             "outlinewidth": 0,
             "ticks": ""
            },
            "type": "choropleth"
           }
          ],
          "contour": [
           {
            "colorbar": {
             "outlinewidth": 0,
             "ticks": ""
            },
            "colorscale": [
             [
              0,
              "#0d0887"
             ],
             [
              0.1111111111111111,
              "#46039f"
             ],
             [
              0.2222222222222222,
              "#7201a8"
             ],
             [
              0.3333333333333333,
              "#9c179e"
             ],
             [
              0.4444444444444444,
              "#bd3786"
             ],
             [
              0.5555555555555556,
              "#d8576b"
             ],
             [
              0.6666666666666666,
              "#ed7953"
             ],
             [
              0.7777777777777778,
              "#fb9f3a"
             ],
             [
              0.8888888888888888,
              "#fdca26"
             ],
             [
              1,
              "#f0f921"
             ]
            ],
            "type": "contour"
           }
          ],
          "contourcarpet": [
           {
            "colorbar": {
             "outlinewidth": 0,
             "ticks": ""
            },
            "type": "contourcarpet"
           }
          ],
          "heatmap": [
           {
            "colorbar": {
             "outlinewidth": 0,
             "ticks": ""
            },
            "colorscale": [
             [
              0,
              "#0d0887"
             ],
             [
              0.1111111111111111,
              "#46039f"
             ],
             [
              0.2222222222222222,
              "#7201a8"
             ],
             [
              0.3333333333333333,
              "#9c179e"
             ],
             [
              0.4444444444444444,
              "#bd3786"
             ],
             [
              0.5555555555555556,
              "#d8576b"
             ],
             [
              0.6666666666666666,
              "#ed7953"
             ],
             [
              0.7777777777777778,
              "#fb9f3a"
             ],
             [
              0.8888888888888888,
              "#fdca26"
             ],
             [
              1,
              "#f0f921"
             ]
            ],
            "type": "heatmap"
           }
          ],
          "heatmapgl": [
           {
            "colorbar": {
             "outlinewidth": 0,
             "ticks": ""
            },
            "colorscale": [
             [
              0,
              "#0d0887"
             ],
             [
              0.1111111111111111,
              "#46039f"
             ],
             [
              0.2222222222222222,
              "#7201a8"
             ],
             [
              0.3333333333333333,
              "#9c179e"
             ],
             [
              0.4444444444444444,
              "#bd3786"
             ],
             [
              0.5555555555555556,
              "#d8576b"
             ],
             [
              0.6666666666666666,
              "#ed7953"
             ],
             [
              0.7777777777777778,
              "#fb9f3a"
             ],
             [
              0.8888888888888888,
              "#fdca26"
             ],
             [
              1,
              "#f0f921"
             ]
            ],
            "type": "heatmapgl"
           }
          ],
          "histogram": [
           {
            "marker": {
             "pattern": {
              "fillmode": "overlay",
              "size": 10,
              "solidity": 0.2
             }
            },
            "type": "histogram"
           }
          ],
          "histogram2d": [
           {
            "colorbar": {
             "outlinewidth": 0,
             "ticks": ""
            },
            "colorscale": [
             [
              0,
              "#0d0887"
             ],
             [
              0.1111111111111111,
              "#46039f"
             ],
             [
              0.2222222222222222,
              "#7201a8"
             ],
             [
              0.3333333333333333,
              "#9c179e"
             ],
             [
              0.4444444444444444,
              "#bd3786"
             ],
             [
              0.5555555555555556,
              "#d8576b"
             ],
             [
              0.6666666666666666,
              "#ed7953"
             ],
             [
              0.7777777777777778,
              "#fb9f3a"
             ],
             [
              0.8888888888888888,
              "#fdca26"
             ],
             [
              1,
              "#f0f921"
             ]
            ],
            "type": "histogram2d"
           }
          ],
          "histogram2dcontour": [
           {
            "colorbar": {
             "outlinewidth": 0,
             "ticks": ""
            },
            "colorscale": [
             [
              0,
              "#0d0887"
             ],
             [
              0.1111111111111111,
              "#46039f"
             ],
             [
              0.2222222222222222,
              "#7201a8"
             ],
             [
              0.3333333333333333,
              "#9c179e"
             ],
             [
              0.4444444444444444,
              "#bd3786"
             ],
             [
              0.5555555555555556,
              "#d8576b"
             ],
             [
              0.6666666666666666,
              "#ed7953"
             ],
             [
              0.7777777777777778,
              "#fb9f3a"
             ],
             [
              0.8888888888888888,
              "#fdca26"
             ],
             [
              1,
              "#f0f921"
             ]
            ],
            "type": "histogram2dcontour"
           }
          ],
          "mesh3d": [
           {
            "colorbar": {
             "outlinewidth": 0,
             "ticks": ""
            },
            "type": "mesh3d"
           }
          ],
          "parcoords": [
           {
            "line": {
             "colorbar": {
              "outlinewidth": 0,
              "ticks": ""
             }
            },
            "type": "parcoords"
           }
          ],
          "pie": [
           {
            "automargin": true,
            "type": "pie"
           }
          ],
          "scatter": [
           {
            "fillpattern": {
             "fillmode": "overlay",
             "size": 10,
             "solidity": 0.2
            },
            "type": "scatter"
           }
          ],
          "scatter3d": [
           {
            "line": {
             "colorbar": {
              "outlinewidth": 0,
              "ticks": ""
             }
            },
            "marker": {
             "colorbar": {
              "outlinewidth": 0,
              "ticks": ""
             }
            },
            "type": "scatter3d"
           }
          ],
          "scattercarpet": [
           {
            "marker": {
             "colorbar": {
              "outlinewidth": 0,
              "ticks": ""
             }
            },
            "type": "scattercarpet"
           }
          ],
          "scattergeo": [
           {
            "marker": {
             "colorbar": {
              "outlinewidth": 0,
              "ticks": ""
             }
            },
            "type": "scattergeo"
           }
          ],
          "scattergl": [
           {
            "marker": {
             "colorbar": {
              "outlinewidth": 0,
              "ticks": ""
             }
            },
            "type": "scattergl"
           }
          ],
          "scattermapbox": [
           {
            "marker": {
             "colorbar": {
              "outlinewidth": 0,
              "ticks": ""
             }
            },
            "type": "scattermapbox"
           }
          ],
          "scatterpolar": [
           {
            "marker": {
             "colorbar": {
              "outlinewidth": 0,
              "ticks": ""
             }
            },
            "type": "scatterpolar"
           }
          ],
          "scatterpolargl": [
           {
            "marker": {
             "colorbar": {
              "outlinewidth": 0,
              "ticks": ""
             }
            },
            "type": "scatterpolargl"
           }
          ],
          "scatterternary": [
           {
            "marker": {
             "colorbar": {
              "outlinewidth": 0,
              "ticks": ""
             }
            },
            "type": "scatterternary"
           }
          ],
          "surface": [
           {
            "colorbar": {
             "outlinewidth": 0,
             "ticks": ""
            },
            "colorscale": [
             [
              0,
              "#0d0887"
             ],
             [
              0.1111111111111111,
              "#46039f"
             ],
             [
              0.2222222222222222,
              "#7201a8"
             ],
             [
              0.3333333333333333,
              "#9c179e"
             ],
             [
              0.4444444444444444,
              "#bd3786"
             ],
             [
              0.5555555555555556,
              "#d8576b"
             ],
             [
              0.6666666666666666,
              "#ed7953"
             ],
             [
              0.7777777777777778,
              "#fb9f3a"
             ],
             [
              0.8888888888888888,
              "#fdca26"
             ],
             [
              1,
              "#f0f921"
             ]
            ],
            "type": "surface"
           }
          ],
          "table": [
           {
            "cells": {
             "fill": {
              "color": "#EBF0F8"
             },
             "line": {
              "color": "white"
             }
            },
            "header": {
             "fill": {
              "color": "#C8D4E3"
             },
             "line": {
              "color": "white"
             }
            },
            "type": "table"
           }
          ]
         },
         "layout": {
          "annotationdefaults": {
           "arrowcolor": "#2a3f5f",
           "arrowhead": 0,
           "arrowwidth": 1
          },
          "autotypenumbers": "strict",
          "coloraxis": {
           "colorbar": {
            "outlinewidth": 0,
            "ticks": ""
           }
          },
          "colorscale": {
           "diverging": [
            [
             0,
             "#8e0152"
            ],
            [
             0.1,
             "#c51b7d"
            ],
            [
             0.2,
             "#de77ae"
            ],
            [
             0.3,
             "#f1b6da"
            ],
            [
             0.4,
             "#fde0ef"
            ],
            [
             0.5,
             "#f7f7f7"
            ],
            [
             0.6,
             "#e6f5d0"
            ],
            [
             0.7,
             "#b8e186"
            ],
            [
             0.8,
             "#7fbc41"
            ],
            [
             0.9,
             "#4d9221"
            ],
            [
             1,
             "#276419"
            ]
           ],
           "sequential": [
            [
             0,
             "#0d0887"
            ],
            [
             0.1111111111111111,
             "#46039f"
            ],
            [
             0.2222222222222222,
             "#7201a8"
            ],
            [
             0.3333333333333333,
             "#9c179e"
            ],
            [
             0.4444444444444444,
             "#bd3786"
            ],
            [
             0.5555555555555556,
             "#d8576b"
            ],
            [
             0.6666666666666666,
             "#ed7953"
            ],
            [
             0.7777777777777778,
             "#fb9f3a"
            ],
            [
             0.8888888888888888,
             "#fdca26"
            ],
            [
             1,
             "#f0f921"
            ]
           ],
           "sequentialminus": [
            [
             0,
             "#0d0887"
            ],
            [
             0.1111111111111111,
             "#46039f"
            ],
            [
             0.2222222222222222,
             "#7201a8"
            ],
            [
             0.3333333333333333,
             "#9c179e"
            ],
            [
             0.4444444444444444,
             "#bd3786"
            ],
            [
             0.5555555555555556,
             "#d8576b"
            ],
            [
             0.6666666666666666,
             "#ed7953"
            ],
            [
             0.7777777777777778,
             "#fb9f3a"
            ],
            [
             0.8888888888888888,
             "#fdca26"
            ],
            [
             1,
             "#f0f921"
            ]
           ]
          },
          "colorway": [
           "#636efa",
           "#EF553B",
           "#00cc96",
           "#ab63fa",
           "#FFA15A",
           "#19d3f3",
           "#FF6692",
           "#B6E880",
           "#FF97FF",
           "#FECB52"
          ],
          "font": {
           "color": "#2a3f5f"
          },
          "geo": {
           "bgcolor": "white",
           "lakecolor": "white",
           "landcolor": "#E5ECF6",
           "showlakes": true,
           "showland": true,
           "subunitcolor": "white"
          },
          "hoverlabel": {
           "align": "left"
          },
          "hovermode": "closest",
          "mapbox": {
           "style": "light"
          },
          "paper_bgcolor": "white",
          "plot_bgcolor": "#E5ECF6",
          "polar": {
           "angularaxis": {
            "gridcolor": "white",
            "linecolor": "white",
            "ticks": ""
           },
           "bgcolor": "#E5ECF6",
           "radialaxis": {
            "gridcolor": "white",
            "linecolor": "white",
            "ticks": ""
           }
          },
          "scene": {
           "xaxis": {
            "backgroundcolor": "#E5ECF6",
            "gridcolor": "white",
            "gridwidth": 2,
            "linecolor": "white",
            "showbackground": true,
            "ticks": "",
            "zerolinecolor": "white"
           },
           "yaxis": {
            "backgroundcolor": "#E5ECF6",
            "gridcolor": "white",
            "gridwidth": 2,
            "linecolor": "white",
            "showbackground": true,
            "ticks": "",
            "zerolinecolor": "white"
           },
           "zaxis": {
            "backgroundcolor": "#E5ECF6",
            "gridcolor": "white",
            "gridwidth": 2,
            "linecolor": "white",
            "showbackground": true,
            "ticks": "",
            "zerolinecolor": "white"
           }
          },
          "shapedefaults": {
           "line": {
            "color": "#2a3f5f"
           }
          },
          "ternary": {
           "aaxis": {
            "gridcolor": "white",
            "linecolor": "white",
            "ticks": ""
           },
           "baxis": {
            "gridcolor": "white",
            "linecolor": "white",
            "ticks": ""
           },
           "bgcolor": "#E5ECF6",
           "caxis": {
            "gridcolor": "white",
            "linecolor": "white",
            "ticks": ""
           }
          },
          "title": {
           "x": 0.05
          },
          "xaxis": {
           "automargin": true,
           "gridcolor": "white",
           "linecolor": "white",
           "ticks": "",
           "title": {
            "standoff": 15
           },
           "zerolinecolor": "white",
           "zerolinewidth": 2
          },
          "yaxis": {
           "automargin": true,
           "gridcolor": "white",
           "linecolor": "white",
           "ticks": "",
           "title": {
            "standoff": 15
           },
           "zerolinecolor": "white",
           "zerolinewidth": 2
          }
         }
        },
        "title": {
         "text": "Top 10 Penalties Makers"
        },
        "xaxis": {
         "anchor": "y",
         "domain": [
          0,
          1
         ],
         "title": {
          "text": "Player"
         }
        },
        "yaxis": {
         "anchor": "x",
         "domain": [
          0,
          1
         ],
         "title": {
          "text": "Penalties"
         }
        }
       }
      }
     },
     "metadata": {},
     "output_type": "display_data"
    }
   ],
   "source": [
    "top_10_penalties_bar = px.bar(top_10_penalties, y = 'Penalties' , x = 'Player', text_auto='.2s', \n",
    "                                              title= \"Top 10 Penalties Makers\")\n",
    "top_10_penalties_bar.update_traces(textfont_size=12, textangle=0, textposition=\"outside\", cliponaxis=False)\n",
    "top_10_penalties_bar.show()"
   ]
  },
  {
   "cell_type": "markdown",
   "metadata": {},
   "source": [
    "Top penalty taker maker is Jorginho"
   ]
  },
  {
   "cell_type": "markdown",
   "metadata": {},
   "source": [
    "Positions with the most goals"
   ]
  },
  {
   "cell_type": "code",
   "execution_count": 8,
   "metadata": {},
   "outputs": [
    {
     "data": {
      "text/html": [
       "<div><div id=d011ba18-a0c7-4f80-81a0-b7fae14edc96 style=\"display:none; background-color:#9D6CFF; color:white; width:200px; height:30px; padding-left:5px; border-radius:4px; flex-direction:row; justify-content:space-around; align-items:center;\" onmouseover=\"this.style.backgroundColor='#BA9BF8'\" onmouseout=\"this.style.backgroundColor='#9D6CFF'\" onclick=\"window.commands?.execute('create-mitosheet-from-dataframe-output');\">See Full Dataframe in Mito</div> <script> if (window.commands?.hasCommand('create-mitosheet-from-dataframe-output')) document.getElementById('d011ba18-a0c7-4f80-81a0-b7fae14edc96').style.display = 'flex' </script> <table border=\"1\" class=\"dataframe\">\n",
       "  <thead>\n",
       "    <tr style=\"text-align: right;\">\n",
       "      <th></th>\n",
       "      <th>Team</th>\n",
       "      <th>JerseyNo</th>\n",
       "      <th>Player</th>\n",
       "      <th>Position</th>\n",
       "      <th>Apearances</th>\n",
       "      <th>Substitutions</th>\n",
       "      <th>Goals</th>\n",
       "      <th>Penalties</th>\n",
       "      <th>YellowCards</th>\n",
       "      <th>RedCards</th>\n",
       "    </tr>\n",
       "  </thead>\n",
       "  <tbody>\n",
       "    <tr>\n",
       "      <th>0</th>\n",
       "      <td>Arsenal</td>\n",
       "      <td>7</td>\n",
       "      <td>Bukayo Saka</td>\n",
       "      <td>Defender/Midfielder</td>\n",
       "      <td>40</td>\n",
       "      <td>3</td>\n",
       "      <td>12</td>\n",
       "      <td>2</td>\n",
       "      <td>6.0</td>\n",
       "      <td>0.0</td>\n",
       "    </tr>\n",
       "    <tr>\n",
       "      <th>1</th>\n",
       "      <td>Arsenal</td>\n",
       "      <td>6</td>\n",
       "      <td>Gabriel</td>\n",
       "      <td>Defender</td>\n",
       "      <td>37</td>\n",
       "      <td>1</td>\n",
       "      <td>5</td>\n",
       "      <td>0</td>\n",
       "      <td>7.0</td>\n",
       "      <td>1.0</td>\n",
       "    </tr>\n",
       "    <tr>\n",
       "      <th>2</th>\n",
       "      <td>Arsenal</td>\n",
       "      <td>32</td>\n",
       "      <td>Aaron Ramsdale</td>\n",
       "      <td>Goalkeeper</td>\n",
       "      <td>37</td>\n",
       "      <td>0</td>\n",
       "      <td>0</td>\n",
       "      <td>0</td>\n",
       "      <td>1.0</td>\n",
       "      <td>0.0</td>\n",
       "    </tr>\n",
       "    <tr>\n",
       "      <th>3</th>\n",
       "      <td>Arsenal</td>\n",
       "      <td>4</td>\n",
       "      <td>Ben White</td>\n",
       "      <td>Defender</td>\n",
       "      <td>37</td>\n",
       "      <td>0</td>\n",
       "      <td>0</td>\n",
       "      <td>0</td>\n",
       "      <td>3.0</td>\n",
       "      <td>0.0</td>\n",
       "    </tr>\n",
       "    <tr>\n",
       "      <th>4</th>\n",
       "      <td>Arsenal</td>\n",
       "      <td>8</td>\n",
       "      <td>Martin Odegaard</td>\n",
       "      <td>Midfielder</td>\n",
       "      <td>36</td>\n",
       "      <td>4</td>\n",
       "      <td>7</td>\n",
       "      <td>0</td>\n",
       "      <td>4.0</td>\n",
       "      <td>0.0</td>\n",
       "    </tr>\n",
       "  </tbody>\n",
       "</table></div>"
      ],
      "text/plain": [
       "      Team  JerseyNo           Player             Position  Apearances  \\\n",
       "0  Arsenal         7      Bukayo Saka  Defender/Midfielder          40   \n",
       "1  Arsenal         6          Gabriel             Defender          37   \n",
       "2  Arsenal        32   Aaron Ramsdale           Goalkeeper          37   \n",
       "3  Arsenal         4        Ben White             Defender          37   \n",
       "4  Arsenal         8  Martin Odegaard           Midfielder          36   \n",
       "\n",
       "   Substitutions  Goals  Penalties  YellowCards  RedCards  \n",
       "0              3     12          2          6.0       0.0  \n",
       "1              1      5          0          7.0       1.0  \n",
       "2              0      0          0          1.0       0.0  \n",
       "3              0      0          0          3.0       0.0  \n",
       "4              4      7          0          4.0       0.0  "
      ]
     },
     "execution_count": 8,
     "metadata": {},
     "output_type": "execute_result"
    }
   ],
   "source": [
    "players_stats.head()"
   ]
  },
  {
   "cell_type": "code",
   "execution_count": 9,
   "metadata": {},
   "outputs": [
    {
     "name": "stderr",
     "output_type": "stream",
     "text": [
      "Note: NumExpr detected 12 cores but \"NUMEXPR_MAX_THREADS\" not set, so enforcing safe limit of 8.\n",
      "NumExpr defaulting to 8 threads.\n"
     ]
    },
    {
     "data": {
      "text/plain": [
       "<seaborn.axisgrid.FacetGrid at 0x1769415e850>"
      ]
     },
     "execution_count": 9,
     "metadata": {},
     "output_type": "execute_result"
    },
    {
     "data": {
      "image/png": "[encoded data removed]",
      "text/plain": [
       "<Figure size 1128.75x720 with 1 Axes>"
      ]
     },
     "metadata": {
      "needs_background": "light"
     },
     "output_type": "display_data"
    }
   ],
   "source": [
    "sns.relplot( x = players_stats['Position'], y = players_stats['Goals'], \n",
    "              size = players_stats['Goals'],\n",
    "              hue = players_stats['Goals'],\n",
    "              height = 10, \n",
    "              aspect= 1.5,\n",
    "              sizes = (200,300))"
   ]
  },
  {
   "cell_type": "markdown",
   "metadata": {},
   "source": [
    "We can see here that the position with the goals is Midfielder/Forward. We can also see in the data that therr are players who play multiple positons. And the position with the most goals is forward. "
   ]
  },
  {
   "cell_type": "markdown",
   "metadata": {},
   "source": [
    "Positions by Goals per Teams"
   ]
  },
  {
   "cell_type": "code",
   "execution_count": 10,
   "metadata": {},
   "outputs": [
    {
     "data": {
      "application/vnd.plotly.v1+json": {
       "config": {
        "plotlyServerURL": "https://plot.ly"
       },
       "data": [
        {
         "colorscale": [
          [
           0,
           "#440154"
          ],
          [
           0.1111111111111111,
           "#482878"
          ],
          [
           0.2222222222222222,
           "#3e4989"
          ],
          [
           0.3333333333333333,
           "#31688e"
          ],
          [
           0.4444444444444444,
           "#26828e"
          ],
          [
           0.5555555555555556,
           "#1f9e89"
          ],
          [
           0.6666666666666666,
           "#35b779"
          ],
          [
           0.7777777777777778,
           "#6ece58"
          ],
          [
           0.8888888888888888,
           "#b5de2b"
          ],
          [
           1,
           "#fde725"
          ]
         ],
         "type": "heatmap",
         "x": [
          "Arsenal",
          "Arsenal",
          "Arsenal",
          "Arsenal",
          "Arsenal",
          "Arsenal",
          "Arsenal",
          "Arsenal",
          "Arsenal",
          "Arsenal",
          "Arsenal",
          "Arsenal",
          "Arsenal",
          "Arsenal",
          "Arsenal",
          "Arsenal",
          "Arsenal",
          "Arsenal",
          "Arsenal",
          "Arsenal",
          "Arsenal",
          "Arsenal",
          "Arsenal",
          "Arsenal",
          "Arsenal",
          "Arsenal",
          "Arsenal",
          "Arsenal",
          "Aston Villa",
          "Aston Villa",
          "Aston Villa",
          "Aston Villa",
          "Aston Villa",
          "Aston Villa",
          "Aston Villa",
          "Aston Villa",
          "Aston Villa",
          "Aston Villa",
          "Aston Villa",
          "Aston Villa",
          "Aston Villa",
          "Aston Villa",
          "Aston Villa",
          "Aston Villa",
          "Aston Villa",
          "Aston Villa",
          "Aston Villa",
          "Aston Villa",
          "Aston Villa",
          "Aston Villa",
          "Aston Villa",
          "Aston Villa",
          "Aston Villa",
          "Aston Villa",
          "Aston Villa",
          "Aston Villa",
          "Aston Villa",
          "Aston Villa",
          "Aston Villa",
          "Aston Villa",
          "Aston Villa",
          "Aston Villa",
          "Aston Villa",
          "Aston Villa",
          "Brentford",
          "Brentford",
          "Brentford",
          "Brentford",
          "Brentford",
          "Brentford",
          "Brentford",
          "Brentford",
          "Brentford",
          "Brentford",
          "Brentford",
          "Brentford",
          "Brentford",
          "Brentford",
          "Brentford",
          "Brentford",
          "Brentford",
          "Brentford",
          "Brentford",
          "Brentford",
          "Brentford",
          "Brentford",
          "Brentford",
          "Brentford",
          "Brentford",
          "Brentford",
          "Brentford",
          "Brentford",
          "Brentford",
          "Brentford",
          "Brentford",
          "Brighton and Hove Albion",
          "Brighton and Hove Albion",
          "Brighton and Hove Albion",
          "Brighton and Hove Albion",
          "Brighton and Hove Albion",
          "Brighton and Hove Albion",
          "Brighton and Hove Albion",
          "Brighton and Hove Albion",
          "Brighton and Hove Albion",
          "Brighton and Hove Albion",
          "Brighton and Hove Albion",
          "Brighton and Hove Albion",
          "Brighton and Hove Albion",
          "Brighton and Hove Albion",
          "Brighton and Hove Albion",
          "Brighton and Hove Albion",
          "Brighton and Hove Albion",
          "Brighton and Hove Albion",
          "Brighton and Hove Albion",
          "Brighton and Hove Albion",
          "Brighton and Hove Albion",
          "Brighton and Hove Albion",
          "Brighton and Hove Albion",
          "Brighton and Hove Albion",
          "Brighton and Hove Albion",
          "Brighton and Hove Albion",
          "Brighton and Hove Albion",
          "Brighton and Hove Albion",
          "Brighton and Hove Albion",
          "Brighton and Hove Albion",
          "Brighton and Hove Albion",
          "Brighton and Hove Albion",
          "Brighton and Hove Albion",
          "Brighton and Hove Albion",
          "Brighton and Hove Albion",
          "Burnley",
          "Burnley",
          "Burnley",
          "Burnley",
          "Burnley",
          "Burnley",
          "Burnley",
          "Burnley",
          "Burnley",
          "Burnley",
          "Burnley",
          "Burnley",
          "Burnley",
          "Burnley",
          "Burnley",
          "Burnley",
          "Burnley",
          "Burnley",
          "Burnley",
          "Burnley",
          "Burnley",
          "Burnley",
          "Burnley",
          "Burnley",
          "Burnley",
          "Chelsea",
          "Chelsea",
          "Chelsea",
          "Chelsea",
          "Chelsea",
          "Chelsea",
          "Chelsea",
          "Chelsea",
          "Chelsea",
          "Chelsea",
          "Chelsea",
          "Chelsea",
          "Chelsea",
          "Chelsea",
          "Chelsea",
          "Chelsea",
          "Chelsea",
          "Chelsea",
          "Chelsea",
          "Chelsea",
          "Chelsea",
          "Chelsea",
          "Chelsea",
          "Chelsea",
          "Chelsea",
          "Chelsea",
          "Chelsea",
          "Chelsea",
          "Chelsea",
          "Chelsea",
          "Chelsea",
          "Chelsea",
          "Chelsea",
          "Crystal Palace",
          "Crystal Palace",
          "Crystal Palace",
          "Crystal Palace",
          "Crystal Palace",
          "Crystal Palace",
          "Crystal Palace",
          "Crystal Palace",
          "Crystal Palace",
          "Crystal Palace",
          "Crystal Palace",
          "Crystal Palace",
          "Crystal Palace",
          "Crystal Palace",
          "Crystal Palace",
          "Crystal Palace",
          "Crystal Palace",
          "Crystal Palace",
          "Crystal Palace",
          "Crystal Palace",
          "Crystal Palace",
          "Crystal Palace",
          "Crystal Palace",
          "Crystal Palace",
          "Crystal Palace",
          "Crystal Palace",
          "Everton",
          "Everton",
          "Everton",
          "Everton",
          "Everton",
          "Everton",
          "Everton",
          "Everton",
          "Everton",
          "Everton",
          "Everton",
          "Everton",
          "Everton",
          "Everton",
          "Everton",
          "Everton",
          "Everton",
          "Everton",
          "Everton",
          "Everton",
          "Everton",
          "Everton",
          "Everton",
          "Everton",
          "Everton",
          "Everton",
          "Everton",
          "Everton",
          "Everton",
          "Everton",
          "Everton",
          "Everton",
          "Everton",
          "Everton",
          "Everton",
          "Everton",
          "Leeds United",
          "Leeds United",
          "Leeds United",
          "Leeds United",
          "Leeds United",
          "Leeds United",
          "Leeds United",
          "Leeds United",
          "Leeds United",
          "Leeds United",
          "Leeds United",
          "Leeds United",
          "Leeds United",
          "Leeds United",
          "Leeds United",
          "Leeds United",
          "Leeds United",
          "Leeds United",
          "Leeds United",
          "Leeds United",
          "Leeds United",
          "Leeds United",
          "Leeds United",
          "Leeds United",
          "Leeds United",
          "Leeds United",
          "Leeds United",
          "Leeds United",
          "Leeds United",
          "Leicester City",
          "Leicester City",
          "Leicester City",
          "Leicester City",
          "Leicester City",
          "Leicester City",
          "Leicester City",
          "Leicester City",
          "Leicester City",
          "Leicester City",
          "Leicester City",
          "Leicester City",
          "Leicester City",
          "Leicester City",
          "Leicester City",
          "Leicester City",
          "Leicester City",
          "Leicester City",
          "Leicester City",
          "Leicester City",
          "Leicester City",
          "Leicester City",
          "Leicester City",
          "Leicester City",
          "Leicester City",
          "Leicester City",
          "Leicester City",
          "Leicester City",
          "Leicester City",
          "Leicester City",
          "Leicester City",
          "Liverpool",
          "Liverpool",
          "Liverpool",
          "Liverpool",
          "Liverpool",
          "Liverpool",
          "Liverpool",
          "Liverpool",
          "Liverpool",
          "Liverpool",
          "Liverpool",
          "Liverpool",
          "Liverpool",
          "Liverpool",
          "Liverpool",
          "Liverpool",
          "Liverpool",
          "Liverpool",
          "Liverpool",
          "Liverpool",
          "Liverpool",
          "Liverpool",
          "Liverpool",
          "Liverpool",
          "Liverpool",
          "Liverpool",
          "Liverpool",
          "Liverpool",
          "Liverpool",
          "Liverpool",
          "Liverpool",
          "Liverpool",
          "Liverpool",
          "Liverpool",
          "Liverpool",
          "Liverpool",
          "Liverpool",
          "Manchester City",
          "Manchester City",
          "Manchester City",
          "Manchester City",
          "Manchester City",
          "Manchester City",
          "Manchester City",
          "Manchester City",
          "Manchester City",
          "Manchester City",
          "Manchester City",
          "Manchester City",
          "Manchester City",
          "Manchester City",
          "Manchester City",
          "Manchester City",
          "Manchester City",
          "Manchester City",
          "Manchester City",
          "Manchester City",
          "Manchester City",
          "Manchester City",
          "Manchester City",
          "Manchester City",
          "Manchester City",
          "Manchester City",
          "Manchester City",
          "Manchester City",
          "Manchester City",
          "Manchester City",
          "Manchester City",
          "Manchester City",
          "Manchester City",
          "Manchester United",
          "Manchester United",
          "Manchester United",
          "Manchester United",
          "Manchester United",
          "Manchester United",
          "Manchester United",
          "Manchester United",
          "Manchester United",
          "Manchester United",
          "Manchester United",
          "Manchester United",
          "Manchester United",
          "Manchester United",
          "Manchester United",
          "Manchester United",
          "Manchester United",
          "Manchester United",
          "Manchester United",
          "Manchester United",
          "Manchester United",
          "Manchester United",
          "Manchester United",
          "Manchester United",
          "Manchester United",
          "Manchester United",
          "Manchester United",
          "Manchester United",
          "Manchester United",
          "Manchester United",
          "Manchester United",
          "Manchester United",
          "Manchester United",
          "Manchester United",
          "Manchester United",
          "Newcastle United",
          "Newcastle United",
          "Newcastle United",
          "Newcastle United",
          "Newcastle United",
          "Newcastle United",
          "Newcastle United",
          "Newcastle United",
          "Newcastle United",
          "Newcastle United",
          "Newcastle United",
          "Newcastle United",
          "Newcastle United",
          "Newcastle United",
          "Newcastle United",
          "Newcastle United",
          "Newcastle United",
          "Newcastle United",
          "Newcastle United",
          "Newcastle United",
          "Newcastle United",
          "Newcastle United",
          "Newcastle United",
          "Newcastle United",
          "Newcastle United",
          "Newcastle United",
          "Newcastle United",
          "Newcastle United",
          "Newcastle United",
          "Norwich City",
          "Norwich City",
          "Norwich City",
          "Norwich City",
          "Norwich City",
          "Norwich City",
          "Norwich City",
          "Norwich City",
          "Norwich City",
          "Norwich City",
          "Norwich City",
          "Norwich City",
          "Norwich City",
          "Norwich City",
          "Norwich City",
          "Norwich City",
          "Norwich City",
          "Norwich City",
          "Norwich City",
          "Norwich City",
          "Norwich City",
          "Norwich City",
          "Norwich City",
          "Norwich City",
          "Norwich City",
          "Norwich City",
          "Norwich City",
          "Norwich City",
          "Norwich City",
          "Southampton",
          "Southampton",
          "Southampton",
          "Southampton",
          "Southampton",
          "Southampton",
          "Southampton",
          "Southampton",
          "Southampton",
          "Southampton",
          "Southampton",
          "Southampton",
          "Southampton",
          "Southampton",
          "Southampton",
          "Southampton",
          "Southampton",
          "Southampton",
          "Southampton",
          "Southampton",
          "Southampton",
          "Southampton",
          "Southampton",
          "Southampton",
          "Southampton",
          "Southampton",
          "Southampton",
          "Tottenham Hotspur",
          "Tottenham Hotspur",
          "Tottenham Hotspur",
          "Tottenham Hotspur",
          "Tottenham Hotspur",
          "Tottenham Hotspur",
          "Tottenham Hotspur",
          "Tottenham Hotspur",
          "Tottenham Hotspur",
          "Tottenham Hotspur",
          "Tottenham Hotspur",
          "Tottenham Hotspur",
          "Tottenham Hotspur",
          "Tottenham Hotspur",
          "Tottenham Hotspur",
          "Tottenham Hotspur",
          "Tottenham Hotspur",
          "Tottenham Hotspur",
          "Tottenham Hotspur",
          "Tottenham Hotspur",
          "Tottenham Hotspur",
          "Tottenham Hotspur",
          "Tottenham Hotspur",
          "Tottenham Hotspur",
          "Tottenham Hotspur",
          "Tottenham Hotspur",
          "Tottenham Hotspur",
          "Tottenham Hotspur",
          "Tottenham Hotspur",
          "Tottenham Hotspur",
          "Tottenham Hotspur",
          "Watford",
          "Watford",
          "Watford",
          "Watford",
          "Watford",
          "Watford",
          "Watford",
          "Watford",
          "Watford",
          "Watford",
          "Watford",
          "Watford",
          "Watford",
          "Watford",
          "Watford",
          "Watford",
          "Watford",
          "Watford",
          "Watford",
          "Watford",
          "Watford",
          "Watford",
          "Watford",
          "Watford",
          "Watford",
          "Watford",
          "Watford",
          "Watford",
          "Watford",
          "Watford",
          "Watford",
          "Watford",
          "Watford",
          "Watford",
          "West Ham United",
          "West Ham United",
          "West Ham United",
          "West Ham United",
          "West Ham United",
          "West Ham United",
          "West Ham United",
          "West Ham United",
          "West Ham United",
          "West Ham United",
          "West Ham United",
          "West Ham United",
          "West Ham United",
          "West Ham United",
          "West Ham United",
          "West Ham United",
          "West Ham United",
          "West Ham United",
          "West Ham United",
          "West Ham United",
          "West Ham United",
          "West Ham United",
          "West Ham United",
          "West Ham United",
          "West Ham United",
          "West Ham United",
          "West Ham United",
          "West Ham United",
          "West Ham United",
          "West Ham United",
          "Wolverhampton Wanderers",
          "Wolverhampton Wanderers",
          "Wolverhampton Wanderers",
          "Wolverhampton Wanderers",
          "Wolverhampton Wanderers",
          "Wolverhampton Wanderers",
          "Wolverhampton Wanderers",
          "Wolverhampton Wanderers",
          "Wolverhampton Wanderers",
          "Wolverhampton Wanderers",
          "Wolverhampton Wanderers",
          "Wolverhampton Wanderers",
          "Wolverhampton Wanderers",
          "Wolverhampton Wanderers",
          "Wolverhampton Wanderers",
          "Wolverhampton Wanderers",
          "Wolverhampton Wanderers",
          "Wolverhampton Wanderers",
          "Wolverhampton Wanderers",
          "Wolverhampton Wanderers",
          "Wolverhampton Wanderers",
          "Wolverhampton Wanderers",
          "Wolverhampton Wanderers",
          "Wolverhampton Wanderers",
          "Wolverhampton Wanderers",
          "Wolverhampton Wanderers",
          "Wolverhampton Wanderers",
          "Wolverhampton Wanderers"
         ],
         "y": [
          "Defender/Midfielder",
          "Defender",
          "Goalkeeper",
          "Defender",
          "Midfielder",
          "Defender/Midfielder",
          "Forward",
          "Midfielder",
          "Midfielder",
          "Defender/Midfielder",
          "Forward",
          "Defender",
          "Defender/Midfielder",
          "Defender",
          "Midfielder",
          "Defender",
          "Forward",
          "Forward",
          "Midfielder",
          "Goalkeeper",
          "Midfielder/Forward",
          "Midfielder/Forward",
          "Defender/Midfielder",
          "Defender/Midfielder",
          "Defender",
          "Forward",
          "Midfielder",
          "Midfielder",
          "Forward",
          "Midfielder",
          "Midfielder",
          "Defender/Midfielder",
          "Defender/Midfielder",
          "Forward",
          "Midfielder",
          "Midfielder/Forward",
          "Forward",
          "Defender/Midfielder",
          "Midfielder",
          "Midfielder",
          "Defender",
          "Defender",
          "Midfielder",
          "Forward",
          "Midfielder",
          "Defender/Midfielder",
          "Midfielder",
          "Goalkeeper",
          "Midfielder",
          "Defender",
          "Midfielder/Forward",
          "Goalkeeper",
          "Midfielder",
          "Midfielder",
          "Midfielder",
          "Midfielder",
          "Goalkeeper",
          "Defender",
          "Midfielder",
          "Midfielder",
          "Defender",
          "Forward",
          "Forward",
          "Defender/Midfielder/Forward",
          "Defender",
          "Midfielder",
          "Defender",
          "Midfielder/Forward",
          "Defender",
          "Forward",
          "Midfielder",
          "Midfielder/Forward",
          "Defender/Midfielder",
          "Goalkeeper",
          "Midfielder",
          "Goalkeeper",
          "Defender",
          "Midfielder/Forward",
          "Defender/Midfielder",
          "Midfielder",
          "Midfielder",
          "Midfielder",
          "Midfielder/Forward",
          "Defender",
          "Defender",
          "Forward",
          "Defender",
          "Midfielder",
          "Goalkeeper",
          "Forward",
          "Midfielder",
          "Forward",
          "Defender/Midfielder",
          "Midfielder",
          "Forward",
          "Defender/Midfielder",
          "Midfielder",
          "Defender",
          "Midfielder",
          "Forward",
          "Defender/Midfielder",
          "Defender",
          "Defender/Midfielder",
          "Forward",
          "Midfielder",
          "Defender/Midfielder",
          "Midfielder/Forward",
          "Defender",
          "Midfielder",
          "Forward",
          "Midfielder",
          "Defender/Midfielder",
          "Forward",
          "Defender/Midfielder",
          "Midfielder/Forward",
          "Midfielder/Forward",
          "Defender",
          "Midfielder",
          "Defender",
          "Goalkeeper",
          "Midfielder/Forward",
          "Goalkeeper",
          "Goalkeeper",
          "Midfielder",
          "Defender/Midfielder",
          "Defender",
          "Defender",
          "Defender",
          "Forward",
          "Forward",
          "Defender",
          "Forward",
          "Midfielder",
          "Defender",
          "Defender/Midfielder",
          "Defender/Forward",
          "Defender/Midfielder",
          "Midfielder/Forward",
          "Goalkeeper",
          "Midfielder",
          "Defender",
          "Defender",
          "Midfielder/Forward",
          "Defender",
          "Defender",
          "Goalkeeper",
          "Defender/Midfielder",
          "Forward",
          "Midfielder",
          "Defender",
          "Defender",
          "Forward",
          "Forward",
          "Defender/Midfielder",
          "Forward",
          "Defender/Midfielder",
          "Midfielder",
          "Midfielder",
          "Goalkeeper",
          "Defender",
          "Defender",
          "Defender",
          "Defender",
          "Midfielder",
          "Midfielder/Forward",
          "Midfielder",
          "Defender/Midfielder",
          "Midfielder",
          "Midfielder",
          "Defender/Midfielder",
          "Goalkeeper",
          "Midfielder",
          "Midfielder",
          "Forward",
          "Defender/Midfielder",
          "Goalkeeper",
          "Midfielder",
          "Midfielder",
          "Defender",
          "Defender",
          "Defender/Midfielder",
          "Midfielder",
          "Forward",
          "Defender",
          "Midfielder",
          "Forward",
          "Midfielder",
          "Defender",
          "Defender/Midfielder",
          "Defender/Midfielder",
          "Forward",
          "Forward",
          "Goalkeeper",
          "Defender",
          "Forward",
          "Midfielder",
          "Defender",
          "Midfielder",
          "Goalkeeper",
          "Defender",
          "Midfielder",
          "Defender",
          "Defender/Midfielder",
          "Forward",
          "Midfielder",
          "Midfielder",
          "Defender",
          "Midfielder",
          "Midfielder/Forward",
          "Defender",
          "Defender/Midfielder",
          "Defender",
          "Defender",
          "Midfielder/Forward",
          "Midfielder",
          "Midfielder",
          "Midfielder",
          "Goalkeeper",
          "Defender",
          "Midfielder/Forward",
          "Forward",
          "Defender/Midfielder",
          "Midfielder",
          "Midfielder",
          "Defender/Midfielder",
          "Forward",
          "Midfielder",
          "Midfielder",
          "Defender/Midfielder",
          "Defender/Midfielder",
          "Midfielder",
          "Midfielder/Forward",
          "Defender/Midfielder",
          "Midfielder/Forward",
          "Forward",
          "Defender",
          "Defender/Midfielder",
          "Defender",
          "Defender",
          "Defender",
          "Midfielder",
          "Defender",
          "Goalkeeper",
          "Midfielder",
          "Midfielder/Forward",
          "Forward",
          "Forward",
          "Midfielder",
          "Midfielder",
          "Defender",
          "Defender",
          "Forward",
          "Midfielder",
          "Defender",
          "Defender",
          "Defender/Midfielder",
          "Defender",
          "Midfielder",
          "Forward",
          "Forward",
          "Midfielder",
          "Midfielder/Forward",
          "Defender",
          "Midfielder/Forward",
          "Defender",
          "Goalkeeper",
          "Midfielder",
          "Defender/Midfielder",
          "Defender",
          "Midfielder/Forward",
          "Midfielder",
          "Goalkeeper",
          "Midfielder",
          "Midfielder/Forward",
          "Forward",
          "Forward",
          "Defender/Midfielder",
          "Defender/Midfielder",
          "Midfielder/Forward",
          "Defender/Midfielder",
          "Midfielder",
          "Defender/Midfielder",
          "Midfielder/Forward",
          "Defender/Midfielder",
          "Defender/Midfielder",
          "Defender",
          "Defender/Midfielder",
          "Midfielder",
          "Forward",
          "Defender",
          "Midfielder",
          "Defender",
          "Defender",
          "Forward",
          "Defender/Midfielder",
          "Forward",
          "Midfielder",
          "Midfielder",
          "Midfielder",
          "Midfielder",
          "Defender/Midfielder",
          "Midfielder/Forward",
          "Defender/Midfielder",
          "Goalkeeper",
          "Midfielder",
          "Defender",
          "Midfielder",
          "Forward",
          "Defender",
          "Goalkeeper",
          "Goalkeeper",
          "Defender/Midfielder",
          "Goalkeeper",
          "Defender",
          "Forward",
          "Defender/Midfielder",
          "Midfielder/Forward",
          "Midfielder/Forward",
          "Midfielder",
          "Midfielder",
          "Defender/Midfielder",
          "Midfielder/Forward",
          "Midfielder",
          "Defender",
          "Midfielder/Forward",
          "Defender/Midfielder",
          "Midfielder",
          "Midfielder",
          "Goalkeeper",
          "Defender",
          "Defender",
          "Midfielder/Forward",
          "Defender/Midfielder",
          "Defender/Midfielder",
          "Midfielder/Forward",
          "Midfielder",
          "Defender/Midfielder",
          "Forward",
          "Midfielder",
          "Defender",
          "Defender",
          "Midfielder/Forward",
          "Midfielder",
          "Defender/Midfielder",
          "Defender",
          "Defender",
          "Forward",
          "Defender",
          "Midfielder/Forward",
          "Defender",
          "Goalkeeper",
          "Midfielder/Forward",
          "Forward",
          "Goalkeeper",
          "Midfielder/Forward",
          "Defender/Midfielder",
          "Defender/Midfielder",
          "Midfielder/Forward",
          "Midfielder/Forward",
          "Forward",
          "Midfielder/Forward",
          "Midfielder",
          "Defender",
          "Forward",
          "Midfielder",
          "Defender",
          "Midfielder",
          "Midfielder/Forward",
          "Defender",
          "Midfielder",
          "Defender",
          "Midfielder/Forward",
          "Midfielder",
          "Defender",
          "Goalkeeper",
          "Midfielder/Forward",
          "Defender",
          "Defender",
          "Defender",
          "Defender/Midfielder",
          "Defender",
          "Defender",
          "Midfielder",
          "Forward",
          "Goalkeeper",
          "Forward",
          "Defender",
          "Midfielder/Forward",
          "Midfielder",
          "Midfielder/Forward",
          "Forward",
          "Goalkeeper",
          "Goalkeeper",
          "Midfielder",
          "Midfielder/Forward",
          "Defender/Midfielder",
          "Midfielder",
          "Defender",
          "Midfielder/Forward",
          "Defender",
          "Forward",
          "Defender/Midfielder",
          "Defender/Midfielder/Forward",
          "Midfielder",
          "Defender",
          "Midfielder",
          "Midfielder/Forward",
          "Midfielder/Forward",
          "Midfielder/Forward",
          "Defender/Midfielder",
          "Defender",
          "Midfielder/Forward",
          "Midfielder",
          "Defender",
          "Defender/Midfielder",
          "Midfielder/Forward",
          "Midfielder",
          "Defender",
          "Defender/Midfielder",
          "Goalkeeper",
          "Goalkeeper",
          "Defender",
          "Defender",
          "Midfielder",
          "Forward",
          "Defender/Midfielder",
          "Midfielder",
          "Midfielder/Forward",
          "Defender",
          "Defender",
          "Defender/Midfielder",
          "Midfielder/Forward",
          "Defender",
          "Midfielder",
          "Midfielder",
          "Midfielder/Forward",
          "Defender",
          "Midfielder",
          "Defender",
          "Defender/Midfielder",
          "Midfielder",
          "Forward",
          "Forward",
          "Goalkeeper",
          "Defender",
          "Defender/Midfielder",
          "Midfielder",
          "Midfielder/Forward",
          "Defender",
          "Defender",
          "Midfielder",
          "Goalkeeper",
          "Defender",
          "Forward",
          "Goalkeeper",
          "Midfielder",
          "Goalkeeper",
          "Midfielder",
          "Midfielder",
          "Midfielder",
          "Defender",
          "Defender",
          "Defender/Midfielder",
          "Forward",
          "Midfielder/Forward",
          "Midfielder/Forward",
          "Midfielder",
          "Forward",
          "Midfielder",
          "Midfielder",
          "Midfielder/Forward",
          "Defender",
          "Defender",
          "Midfielder/Forward",
          "Forward",
          "Midfielder",
          "Defender",
          "Forward",
          "Goalkeeper",
          "Midfielder",
          "Midfielder",
          "Midfielder/Forward",
          "Goalkeeper",
          "Defender/Midfielder",
          "Forward",
          "Defender",
          "Goalkeeper",
          "Forward",
          "Defender/Midfielder",
          "Midfielder/Forward",
          "Midfielder/Forward",
          "Defender",
          "Defender",
          "Midfielder",
          "Defender",
          "Midfielder",
          "Defender",
          "Midfielder/Forward",
          "Defender/Midfielder",
          "Midfielder",
          "Midfielder",
          "Midfielder",
          "Forward",
          "Midfielder/Forward",
          "Defender",
          "Forward",
          "Defender/Midfielder",
          "Defender/Midfielder",
          "Defender",
          "Defender",
          "Goalkeeper",
          "Midfielder/Forward",
          "Midfielder",
          "Midfielder",
          "Forward",
          "Midfielder",
          "Goalkeeper",
          "Midfielder/Forward",
          "Midfielder",
          "Midfielder/Forward",
          "Midfielder",
          "Defender/Midfielder",
          "Defender",
          "Defender",
          "Defender/Midfielder",
          "Forward",
          "Defender",
          "Defender/Midfielder",
          "Midfielder",
          "Defender",
          "Midfielder",
          "Goalkeeper",
          "Defender",
          "Midfielder",
          "Midfielder",
          "Forward",
          "Forward",
          "Goalkeeper",
          "Midfielder",
          "Defender/Midfielder",
          "Forward",
          "Forward",
          "Goalkeeper",
          "Defender/Midfielder",
          "Midfielder/Forward",
          "Forward",
          "Defender",
          "Midfielder/Forward",
          "Defender",
          "Midfielder",
          "Forward",
          "Midfielder",
          "Midfielder",
          "Defender",
          "Defender",
          "Defender",
          "Defender",
          "Defender/Midfielder",
          "Defender/Midfielder",
          "Defender",
          "Midfielder/Forward",
          "Midfielder",
          "Defender",
          "Midfielder",
          "Defender",
          "Defender",
          "Midfielder/Forward",
          "Defender/Midfielder",
          "Goalkeeper",
          "Defender",
          "Defender",
          "Midfielder/Forward",
          "Midfielder/Forward",
          "Midfielder",
          "Defender",
          "Defender",
          "Defender",
          "Defender",
          "Goalkeeper",
          "Midfielder",
          "Defender/Midfielder",
          "Defender/Midfielder",
          "Midfielder",
          "Midfielder",
          "Defender/Midfielder",
          "Defender/Midfielder",
          "Midfielder",
          "Defender",
          "Midfielder/Forward",
          "Defender/Midfielder",
          "Defender/Midfielder",
          "Midfielder",
          "Midfielder",
          "Midfielder/Forward",
          "Defender",
          "Defender",
          "Defender",
          "Midfielder",
          "Midfielder",
          "Midfielder/Forward",
          "Defender/Midfielder",
          "Midfielder",
          "Midfielder/Forward",
          "Defender/Midfielder",
          "Forward",
          "Midfielder/Forward",
          "Forward",
          "Defender",
          "Forward",
          "Midfielder",
          "Defender/Midfielder",
          "Goalkeeper",
          "Defender",
          "Defender",
          "Defender",
          "Defender",
          "Midfielder",
          "Midfielder",
          "Goalkeeper",
          "Defender/Midfielder",
          "Defender",
          "Midfielder/Forward",
          "Midfielder/Forward"
         ],
         "z": [
          12,
          5,
          0,
          0,
          7,
          1,
          6,
          2,
          11,
          1,
          6,
          1,
          0,
          1,
          0,
          1,
          7,
          10,
          0,
          0,
          3,
          0,
          1,
          0,
          0,
          0,
          1,
          0,
          4,
          1,
          4,
          4,
          1,
          0,
          0,
          5,
          0,
          0,
          2,
          3,
          1,
          1,
          0,
          7,
          0,
          2,
          0,
          0,
          3,
          1,
          0,
          0,
          0,
          0,
          6,
          0,
          0,
          1,
          0,
          0,
          0,
          11,
          0,
          0,
          3,
          3,
          3,
          8,
          1,
          14,
          4,
          4,
          1,
          0,
          0,
          0,
          1,
          10,
          0,
          0,
          1,
          1,
          1,
          1,
          0,
          6,
          0,
          0,
          0,
          0,
          0,
          0,
          0,
          0,
          0,
          0,
          2,
          1,
          1,
          2,
          1,
          1,
          1,
          0,
          2,
          0,
          0,
          0,
          0,
          0,
          5,
          0,
          9,
          2,
          0,
          3,
          0,
          0,
          0,
          0,
          0,
          0,
          0,
          8,
          0,
          0,
          1,
          3,
          6,
          1,
          0,
          1,
          2,
          2,
          1,
          9,
          0,
          0,
          0,
          2,
          0,
          1,
          0,
          3,
          0,
          0,
          1,
          7,
          0,
          1,
          0,
          2,
          2,
          0,
          3,
          3,
          0,
          1,
          0,
          4,
          3,
          2,
          0,
          0,
          14,
          3,
          6,
          9,
          2,
          0,
          0,
          2,
          1,
          15,
          5,
          0,
          13,
          8,
          5,
          0,
          1,
          0,
          0,
          3,
          0,
          11,
          8,
          0,
          0,
          0,
          3,
          4,
          0,
          0,
          6,
          1,
          0,
          8,
          0,
          4,
          1,
          0,
          1,
          7,
          0,
          0,
          0,
          4,
          0,
          1,
          4,
          1,
          0,
          15,
          0,
          0,
          1,
          0,
          1,
          5,
          0,
          1,
          1,
          0,
          1,
          0,
          2,
          0,
          0,
          0,
          4,
          6,
          3,
          3,
          0,
          3,
          0,
          1,
          1,
          0,
          0,
          0,
          0,
          0,
          11,
          3,
          0,
          7,
          1,
          0,
          2,
          2,
          0,
          0,
          0,
          1,
          0,
          0,
          2,
          0,
          10,
          0,
          0,
          4,
          0,
          0,
          1,
          0,
          3,
          0,
          0,
          0,
          1,
          11,
          1,
          6,
          0,
          1,
          0,
          3,
          0,
          1,
          11,
          0,
          0,
          1,
          1,
          0,
          11,
          0,
          3,
          2,
          1,
          8,
          0,
          8,
          18,
          0,
          0,
          0,
          2,
          3,
          2,
          0,
          0,
          0,
          7,
          17,
          0,
          0,
          0,
          2,
          0,
          0,
          0,
          0,
          6,
          21,
          0,
          1,
          8,
          11,
          0,
          0,
          1,
          3,
          1,
          4,
          0,
          3,
          0,
          23,
          3,
          0,
          10,
          0,
          0,
          6,
          3,
          0,
          3,
          31,
          2,
          0,
          3,
          0,
          0,
          3,
          13,
          0,
          0,
          19,
          0,
          0,
          0,
          0,
          2,
          3,
          14,
          13,
          6,
          10,
          3,
          0,
          0,
          4,
          0,
          24,
          0,
          0,
          0,
          3,
          7,
          2,
          0,
          17,
          2,
          1,
          0,
          0,
          1,
          0,
          10,
          2,
          0,
          0,
          0,
          3,
          4,
          0,
          6,
          0,
          0,
          0,
          0,
          0,
          0,
          0,
          2,
          2,
          1,
          0,
          2,
          0,
          0,
          1,
          5,
          24,
          5,
          0,
          0,
          0,
          1,
          1,
          0,
          1,
          5,
          0,
          0,
          0,
          0,
          0,
          0,
          2,
          0,
          1,
          1,
          4,
          0,
          1,
          0,
          1,
          1,
          1,
          0,
          5,
          2,
          2,
          0,
          2,
          2,
          8,
          2,
          0,
          0,
          0,
          0,
          1,
          0,
          0,
          0,
          0,
          1,
          1,
          0,
          1,
          0,
          3,
          0,
          1,
          1,
          0,
          0,
          11,
          2,
          0,
          2,
          4,
          0,
          0,
          2,
          0,
          0,
          8,
          2,
          3,
          4,
          9,
          0,
          1,
          0,
          8,
          0,
          1,
          2,
          0,
          0,
          0,
          1,
          3,
          2,
          1,
          0,
          0,
          0,
          1,
          0,
          0,
          3,
          11,
          2,
          0,
          4,
          0,
          0,
          0,
          1,
          0,
          2,
          1,
          0,
          24,
          3,
          0,
          27,
          5,
          0,
          0,
          2,
          6,
          2,
          0,
          0,
          1,
          2,
          0,
          2,
          0,
          0,
          0,
          1,
          0,
          0,
          0,
          0,
          0,
          10,
          0,
          0,
          0,
          2,
          0,
          0,
          1,
          5,
          4,
          0,
          0,
          1,
          0,
          5,
          1,
          0,
          0,
          0,
          0,
          0,
          0,
          0,
          0,
          5,
          0,
          0,
          2,
          0,
          0,
          13,
          0,
          0,
          0,
          0,
          11,
          18,
          0,
          0,
          2,
          4,
          1,
          0,
          6,
          0,
          1,
          0,
          7,
          0,
          1,
          2,
          1,
          0,
          0,
          5,
          6,
          1,
          3,
          1,
          1,
          0,
          0,
          0,
          0,
          4,
          0,
          6,
          3,
          0,
          1,
          5,
          0,
          6,
          2,
          2,
          0,
          1,
          0,
          0,
          1,
          1,
          4,
          0,
          3,
          0,
          1,
          3
         ]
        }
       ],
       "layout": {
        "template": {
         "data": {
          "bar": [
           {
            "error_x": {
             "color": "#2a3f5f"
            },
            "error_y": {
             "color": "#2a3f5f"
            },
            "marker": {
             "line": {
              "color": "#E5ECF6",
              "width": 0.5
             },
             "pattern": {
              "fillmode": "overlay",
              "size": 10,
              "solidity": 0.2
             }
            },
            "type": "bar"
           }
          ],
          "barpolar": [
           {
            "marker": {
             "line": {
              "color": "#E5ECF6",
              "width": 0.5
             },
             "pattern": {
              "fillmode": "overlay",
              "size": 10,
              "solidity": 0.2
             }
            },
            "type": "barpolar"
           }
          ],
          "carpet": [
           {
            "aaxis": {
             "endlinecolor": "#2a3f5f",
             "gridcolor": "white",
             "linecolor": "white",
             "minorgridcolor": "white",
             "startlinecolor": "#2a3f5f"
            },
            "baxis": {
             "endlinecolor": "#2a3f5f",
             "gridcolor": "white",
             "linecolor": "white",
             "minorgridcolor": "white",
             "startlinecolor": "#2a3f5f"
            },
            "type": "carpet"
           }
          ],
          "choropleth": [
           {
            "colorbar": {
             "outlinewidth": 0,
             "ticks": ""
            },
            "type": "choropleth"
           }
          ],
          "contour": [
           {
            "colorbar": {
             "outlinewidth": 0,
             "ticks": ""
            },
            "colorscale": [
             [
              0,
              "#0d0887"
             ],
             [
              0.1111111111111111,
              "#46039f"
             ],
             [
              0.2222222222222222,
              "#7201a8"
             ],
             [
              0.3333333333333333,
              "#9c179e"
             ],
             [
              0.4444444444444444,
              "#bd3786"
             ],
             [
              0.5555555555555556,
              "#d8576b"
             ],
             [
              0.6666666666666666,
              "#ed7953"
             ],
             [
              0.7777777777777778,
              "#fb9f3a"
             ],
             [
              0.8888888888888888,
              "#fdca26"
             ],
             [
              1,
              "#f0f921"
             ]
            ],
            "type": "contour"
           }
          ],
          "contourcarpet": [
           {
            "colorbar": {
             "outlinewidth": 0,
             "ticks": ""
            },
            "type": "contourcarpet"
           }
          ],
          "heatmap": [
           {
            "colorbar": {
             "outlinewidth": 0,
             "ticks": ""
            },
            "colorscale": [
             [
              0,
              "#0d0887"
             ],
             [
              0.1111111111111111,
              "#46039f"
             ],
             [
              0.2222222222222222,
              "#7201a8"
             ],
             [
              0.3333333333333333,
              "#9c179e"
             ],
             [
              0.4444444444444444,
              "#bd3786"
             ],
             [
              0.5555555555555556,
              "#d8576b"
             ],
             [
              0.6666666666666666,
              "#ed7953"
             ],
             [
              0.7777777777777778,
              "#fb9f3a"
             ],
             [
              0.8888888888888888,
              "#fdca26"
             ],
             [
              1,
              "#f0f921"
             ]
            ],
            "type": "heatmap"
           }
          ],
          "heatmapgl": [
           {
            "colorbar": {
             "outlinewidth": 0,
             "ticks": ""
            },
            "colorscale": [
             [
              0,
              "#0d0887"
             ],
             [
              0.1111111111111111,
              "#46039f"
             ],
             [
              0.2222222222222222,
              "#7201a8"
             ],
             [
              0.3333333333333333,
              "#9c179e"
             ],
             [
              0.4444444444444444,
              "#bd3786"
             ],
             [
              0.5555555555555556,
              "#d8576b"
             ],
             [
              0.6666666666666666,
              "#ed7953"
             ],
             [
              0.7777777777777778,
              "#fb9f3a"
             ],
             [
              0.8888888888888888,
              "#fdca26"
             ],
             [
              1,
              "#f0f921"
             ]
            ],
            "type": "heatmapgl"
           }
          ],
          "histogram": [
           {
            "marker": {
             "pattern": {
              "fillmode": "overlay",
              "size": 10,
              "solidity": 0.2
             }
            },
            "type": "histogram"
           }
          ],
          "histogram2d": [
           {
            "colorbar": {
             "outlinewidth": 0,
             "ticks": ""
            },
            "colorscale": [
             [
              0,
              "#0d0887"
             ],
             [
              0.1111111111111111,
              "#46039f"
             ],
             [
              0.2222222222222222,
              "#7201a8"
             ],
             [
              0.3333333333333333,
              "#9c179e"
             ],
             [
              0.4444444444444444,
              "#bd3786"
             ],
             [
              0.5555555555555556,
              "#d8576b"
             ],
             [
              0.6666666666666666,
              "#ed7953"
             ],
             [
              0.7777777777777778,
              "#fb9f3a"
             ],
             [
              0.8888888888888888,
              "#fdca26"
             ],
             [
              1,
              "#f0f921"
             ]
            ],
            "type": "histogram2d"
           }
          ],
          "histogram2dcontour": [
           {
            "colorbar": {
             "outlinewidth": 0,
             "ticks": ""
            },
            "colorscale": [
             [
              0,
              "#0d0887"
             ],
             [
              0.1111111111111111,
              "#46039f"
             ],
             [
              0.2222222222222222,
              "#7201a8"
             ],
             [
              0.3333333333333333,
              "#9c179e"
             ],
             [
              0.4444444444444444,
              "#bd3786"
             ],
             [
              0.5555555555555556,
              "#d8576b"
             ],
             [
              0.6666666666666666,
              "#ed7953"
             ],
             [
              0.7777777777777778,
              "#fb9f3a"
             ],
             [
              0.8888888888888888,
              "#fdca26"
             ],
             [
              1,
              "#f0f921"
             ]
            ],
            "type": "histogram2dcontour"
           }
          ],
          "mesh3d": [
           {
            "colorbar": {
             "outlinewidth": 0,
             "ticks": ""
            },
            "type": "mesh3d"
           }
          ],
          "parcoords": [
           {
            "line": {
             "colorbar": {
              "outlinewidth": 0,
              "ticks": ""
             }
            },
            "type": "parcoords"
           }
          ],
          "pie": [
           {
            "automargin": true,
            "type": "pie"
           }
          ],
          "scatter": [
           {
            "fillpattern": {
             "fillmode": "overlay",
             "size": 10,
             "solidity": 0.2
            },
            "type": "scatter"
           }
          ],
          "scatter3d": [
           {
            "line": {
             "colorbar": {
              "outlinewidth": 0,
              "ticks": ""
             }
            },
            "marker": {
             "colorbar": {
              "outlinewidth": 0,
              "ticks": ""
             }
            },
            "type": "scatter3d"
           }
          ],
          "scattercarpet": [
           {
            "marker": {
             "colorbar": {
              "outlinewidth": 0,
              "ticks": ""
             }
            },
            "type": "scattercarpet"
           }
          ],
          "scattergeo": [
           {
            "marker": {
             "colorbar": {
              "outlinewidth": 0,
              "ticks": ""
             }
            },
            "type": "scattergeo"
           }
          ],
          "scattergl": [
           {
            "marker": {
             "colorbar": {
              "outlinewidth": 0,
              "ticks": ""
             }
            },
            "type": "scattergl"
           }
          ],
          "scattermapbox": [
           {
            "marker": {
             "colorbar": {
              "outlinewidth": 0,
              "ticks": ""
             }
            },
            "type": "scattermapbox"
           }
          ],
          "scatterpolar": [
           {
            "marker": {
             "colorbar": {
              "outlinewidth": 0,
              "ticks": ""
             }
            },
            "type": "scatterpolar"
           }
          ],
          "scatterpolargl": [
           {
            "marker": {
             "colorbar": {
              "outlinewidth": 0,
              "ticks": ""
             }
            },
            "type": "scatterpolargl"
           }
          ],
          "scatterternary": [
           {
            "marker": {
             "colorbar": {
              "outlinewidth": 0,
              "ticks": ""
             }
            },
            "type": "scatterternary"
           }
          ],
          "surface": [
           {
            "colorbar": {
             "outlinewidth": 0,
             "ticks": ""
            },
            "colorscale": [
             [
              0,
              "#0d0887"
             ],
             [
              0.1111111111111111,
              "#46039f"
             ],
             [
              0.2222222222222222,
              "#7201a8"
             ],
             [
              0.3333333333333333,
              "#9c179e"
             ],
             [
              0.4444444444444444,
              "#bd3786"
             ],
             [
              0.5555555555555556,
              "#d8576b"
             ],
             [
              0.6666666666666666,
              "#ed7953"
             ],
             [
              0.7777777777777778,
              "#fb9f3a"
             ],
             [
              0.8888888888888888,
              "#fdca26"
             ],
             [
              1,
              "#f0f921"
             ]
            ],
            "type": "surface"
           }
          ],
          "table": [
           {
            "cells": {
             "fill": {
              "color": "#EBF0F8"
             },
             "line": {
              "color": "white"
             }
            },
            "header": {
             "fill": {
              "color": "#C8D4E3"
             },
             "line": {
              "color": "white"
             }
            },
            "type": "table"
           }
          ]
         },
         "layout": {
          "annotationdefaults": {
           "arrowcolor": "#2a3f5f",
           "arrowhead": 0,
           "arrowwidth": 1
          },
          "autotypenumbers": "strict",
          "coloraxis": {
           "colorbar": {
            "outlinewidth": 0,
            "ticks": ""
           }
          },
          "colorscale": {
           "diverging": [
            [
             0,
             "#8e0152"
            ],
            [
             0.1,
             "#c51b7d"
            ],
            [
             0.2,
             "#de77ae"
            ],
            [
             0.3,
             "#f1b6da"
            ],
            [
             0.4,
             "#fde0ef"
            ],
            [
             0.5,
             "#f7f7f7"
            ],
            [
             0.6,
             "#e6f5d0"
            ],
            [
             0.7,
             "#b8e186"
            ],
            [
             0.8,
             "#7fbc41"
            ],
            [
             0.9,
             "#4d9221"
            ],
            [
             1,
             "#276419"
            ]
           ],
           "sequential": [
            [
             0,
             "#0d0887"
            ],
            [
             0.1111111111111111,
             "#46039f"
            ],
            [
             0.2222222222222222,
             "#7201a8"
            ],
            [
             0.3333333333333333,
             "#9c179e"
            ],
            [
             0.4444444444444444,
             "#bd3786"
            ],
            [
             0.5555555555555556,
             "#d8576b"
            ],
            [
             0.6666666666666666,
             "#ed7953"
            ],
            [
             0.7777777777777778,
             "#fb9f3a"
            ],
            [
             0.8888888888888888,
             "#fdca26"
            ],
            [
             1,
             "#f0f921"
            ]
           ],
           "sequentialminus": [
            [
             0,
             "#0d0887"
            ],
            [
             0.1111111111111111,
             "#46039f"
            ],
            [
             0.2222222222222222,
             "#7201a8"
            ],
            [
             0.3333333333333333,
             "#9c179e"
            ],
            [
             0.4444444444444444,
             "#bd3786"
            ],
            [
             0.5555555555555556,
             "#d8576b"
            ],
            [
             0.6666666666666666,
             "#ed7953"
            ],
            [
             0.7777777777777778,
             "#fb9f3a"
            ],
            [
             0.8888888888888888,
             "#fdca26"
            ],
            [
             1,
             "#f0f921"
            ]
           ]
          },
          "colorway": [
           "#636efa",
           "#EF553B",
           "#00cc96",
           "#ab63fa",
           "#FFA15A",
           "#19d3f3",
           "#FF6692",
           "#B6E880",
           "#FF97FF",
           "#FECB52"
          ],
          "font": {
           "color": "#2a3f5f"
          },
          "geo": {
           "bgcolor": "white",
           "lakecolor": "white",
           "landcolor": "#E5ECF6",
           "showlakes": true,
           "showland": true,
           "subunitcolor": "white"
          },
          "hoverlabel": {
           "align": "left"
          },
          "hovermode": "closest",
          "mapbox": {
           "style": "light"
          },
          "paper_bgcolor": "white",
          "plot_bgcolor": "#E5ECF6",
          "polar": {
           "angularaxis": {
            "gridcolor": "white",
            "linecolor": "white",
            "ticks": ""
           },
           "bgcolor": "#E5ECF6",
           "radialaxis": {
            "gridcolor": "white",
            "linecolor": "white",
            "ticks": ""
           }
          },
          "scene": {
           "xaxis": {
            "backgroundcolor": "#E5ECF6",
            "gridcolor": "white",
            "gridwidth": 2,
            "linecolor": "white",
            "showbackground": true,
            "ticks": "",
            "zerolinecolor": "white"
           },
           "yaxis": {
            "backgroundcolor": "#E5ECF6",
            "gridcolor": "white",
            "gridwidth": 2,
            "linecolor": "white",
            "showbackground": true,
            "ticks": "",
            "zerolinecolor": "white"
           },
           "zaxis": {
            "backgroundcolor": "#E5ECF6",
            "gridcolor": "white",
            "gridwidth": 2,
            "linecolor": "white",
            "showbackground": true,
            "ticks": "",
            "zerolinecolor": "white"
           }
          },
          "shapedefaults": {
           "line": {
            "color": "#2a3f5f"
           }
          },
          "ternary": {
           "aaxis": {
            "gridcolor": "white",
            "linecolor": "white",
            "ticks": ""
           },
           "baxis": {
            "gridcolor": "white",
            "linecolor": "white",
            "ticks": ""
           },
           "bgcolor": "#E5ECF6",
           "caxis": {
            "gridcolor": "white",
            "linecolor": "white",
            "ticks": ""
           }
          },
          "title": {
           "x": 0.05
          },
          "xaxis": {
           "automargin": true,
           "gridcolor": "white",
           "linecolor": "white",
           "ticks": "",
           "title": {
            "standoff": 15
           },
           "zerolinecolor": "white",
           "zerolinewidth": 2
          },
          "yaxis": {
           "automargin": true,
           "gridcolor": "white",
           "linecolor": "white",
           "ticks": "",
           "title": {
            "standoff": 15
           },
           "zerolinecolor": "white",
           "zerolinewidth": 2
          }
         }
        },
        "title": {
         "text": "Positions by Goals per Teams"
        },
        "xaxis": {
         "nticks": 400
        }
       }
      }
     },
     "metadata": {},
     "output_type": "display_data"
    }
   ],
   "source": [
    "fig = go.Figure(data=go.Heatmap(\n",
    "        z= players_stats['Goals'],\n",
    "        x= players_stats['Team'],\n",
    "        y= players_stats['Position'],\n",
    "        colorscale='Viridis'))\n",
    "\n",
    "fig.update_layout(\n",
    "    title='Positions by Goals per Teams',\n",
    "    xaxis_nticks=400)\n",
    "\n",
    "fig.show()"
   ]
  },
  {
   "cell_type": "markdown",
   "metadata": {},
   "source": [
    "In this heatmap we can see positions by goals per teams. This is a interesting heatmap because we see that there are teams with most of there goals come from midfielder players like for example most goals from Southhampton come for a midfielder. Also, we can see that Burnley is that only team thats having a defeneder/Forward scoring goals."
   ]
  },
  {
   "cell_type": "markdown",
   "metadata": {},
   "source": [
    "Correlation between goals and apearances"
   ]
  },
  {
   "cell_type": "code",
   "execution_count": 11,
   "metadata": {},
   "outputs": [
    {
     "data": {
      "image/png": "[encoded data removed]",
      "text/plain": [
       "<Figure size 504x432 with 1 Axes>"
      ]
     },
     "metadata": {
      "needs_background": "light"
     },
     "output_type": "display_data"
    }
   ],
   "source": [
    "f, ax = plt.subplots(figsize=(7, 6))\n",
    "sns.regplot(x= players_stats['Apearances'], y= players_stats['Goals'], data=players_stats, ax=ax);"
   ]
  },
  {
   "cell_type": "markdown",
   "metadata": {},
   "source": [
    "We can see here their is a correlation between goals and apearanaces. But we do have some outliers. "
   ]
  }
 ],
 "metadata": {
  "kernelspec": {
   "display_name": "Python 3.8.8 ('base')",
   "language": "python",
   "name": "python3"
  },
  "language_info": {
   "codemirror_mode": {
    "name": "ipython",
    "version": 3
   },
   "file_extension": ".py",
   "mimetype": "text/x-python",
   "name": "python",
   "nbconvert_exporter": "python",
   "pygments_lexer": "ipython3",
   "version": "3.8.8"
  },
  "orig_nbformat": 4,
  "vscode": {
   "interpreter": {
    "hash": "5ff8a05b95a9d60aaeba631c485c830d9cd0f16cfc5969683b11b758e51e795a"
   }
  }
 },
 "nbformat": 4,
 "nbformat_minor": 2
}
